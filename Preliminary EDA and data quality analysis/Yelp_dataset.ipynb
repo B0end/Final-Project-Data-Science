{
  "nbformat": 4,
  "nbformat_minor": 0,
  "metadata": {
    "colab": {
      "provenance": []
    },
    "kernelspec": {
      "name": "python3",
      "display_name": "Python 3"
    },
    "language_info": {
      "name": "python"
    }
  },
  "cells": [
    {
      "cell_type": "code",
      "source": [
        "# Install this (run the cell):\n",
        "# !apt-get install openjdk-8-jdk-headless -qq\n",
        "# !pip install pyspark"
      ],
      "metadata": {
        "id": "4BUhOsfaNoE7"
      },
      "execution_count": null,
      "outputs": []
    },
    {
      "cell_type": "markdown",
      "source": [
        "### Here I am analyzing just \"business.pkl\", \"review.json\" and \"user.parquet\"\n",
        "### I am not analyzing \"checkin.json\" and \"tip.json\""
      ],
      "metadata": {
        "id": "x7FtGWbGgHcI"
      }
    },
    {
      "cell_type": "code",
      "execution_count": 5,
      "metadata": {
        "colab": {
          "base_uri": "https://localhost:8080/"
        },
        "id": "LBOWuQ55LqE-",
        "outputId": "c77fa099-c5d2-4334-faa7-e727828d6bf4"
      },
      "outputs": [
        {
          "output_type": "stream",
          "name": "stdout",
          "text": [
            "Drive already mounted at /content/drive; to attempt to forcibly remount, call drive.mount(\"/content/drive\", force_remount=True).\n"
          ]
        }
      ],
      "source": [
        "from google.colab import drive\n",
        "drive.mount('/content/drive')"
      ]
    },
    {
      "cell_type": "code",
      "source": [
        "import pandas as pd\n",
        "from pyspark.sql import SparkSession\n",
        "from pyspark.sql.functions import lit\n",
        "from pyspark.sql.functions import col, sum\n",
        "from pyspark.sql.functions import input_file_name, regexp_extract\n",
        "import matplotlib.pyplot as plt"
      ],
      "metadata": {
        "id": "Q_1vu5_5Lrr3"
      },
      "execution_count": 6,
      "outputs": []
    },
    {
      "cell_type": "markdown",
      "source": [
        "# business.pkl\n",
        "\n",
        "Observations:\n",
        "- There are 150.346 rows and 28 (14) columns.\n",
        "- Columns are repeated twice!\n",
        "- Aparently there is no duplicate\n",
        "- Everything is object type. 'stars', 'latitude' and 'longitude' columns should be float type, 'review_count' and 'is_open' columns integer type\n",
        "- There are null values in columns: state(3), attributes(13744), categories(103), hours(23223)\n",
        "- There are a few places with relatively much more reviews (possible outliers).\n",
        "- Seems like there are many reviews between 2.5 and 4.5 stars and less between 1 and 2, and specifically 5"
      ],
      "metadata": {
        "id": "beYp_luCMQYn"
      }
    },
    {
      "cell_type": "code",
      "source": [
        "# Define the path pattern for the Pickle file\n",
        "yelp_business_file_path = '/content/drive/MyDrive/Yelp/business.pkl'\n",
        "yelp_business = pd.read_pickle(yelp_business_file_path)"
      ],
      "metadata": {
        "id": "V2SosY1YLsK-"
      },
      "execution_count": 7,
      "outputs": []
    },
    {
      "cell_type": "markdown",
      "source": [
        "## General Analysis"
      ],
      "metadata": {
        "id": "vA-3I_0z7S-I"
      }
    },
    {
      "cell_type": "code",
      "source": [
        "rows, columns = yelp_business.shape\n",
        "f'There are {rows} rows and {columns} columns.'"
      ],
      "metadata": {
        "id": "qASf_c_rPH1q",
        "colab": {
          "base_uri": "https://localhost:8080/",
          "height": 35
        },
        "outputId": "1abbfcb9-f791-4a84-e5bb-364b21154c57"
      },
      "execution_count": 8,
      "outputs": [
        {
          "output_type": "execute_result",
          "data": {
            "text/plain": [
              "'There are 150346 rows and 28 columns.'"
            ],
            "application/vnd.google.colaboratory.intrinsic+json": {
              "type": "string"
            }
          },
          "metadata": {},
          "execution_count": 8
        }
      ]
    },
    {
      "cell_type": "code",
      "source": [
        "yelp_business.head()"
      ],
      "metadata": {
        "colab": {
          "base_uri": "https://localhost:8080/",
          "height": 453
        },
        "id": "ew_IAdbGrXJ7",
        "outputId": "c9cb09a9-3005-4e3f-8854-7dd38aa59e9f"
      },
      "execution_count": 9,
      "outputs": [
        {
          "output_type": "execute_result",
          "data": {
            "text/plain": [
              "              business_id                      name  \\\n",
              "0  Pns2l4eNsfO8kk83dixA6A  Abby Rappoport, LAC, CMQ   \n",
              "1  mpf3x-BjTdTEA3yCZrAYPw             The UPS Store   \n",
              "2  tUFrWirKiKi_TAnsVWINQQ                    Target   \n",
              "3  MTSW4McQd7CbVtyjqoe9mw        St Honore Pastries   \n",
              "4  mWMc6_wTdE0EUBKIGXDVfA  Perkiomen Valley Brewery   \n",
              "\n",
              "                           address           city state postal_code  \\\n",
              "0           1616 Chapala St, Ste 2  Santa Barbara   NaN       93101   \n",
              "1  87 Grasso Plaza Shopping Center         Affton   NaN       63123   \n",
              "2             5255 E Broadway Blvd         Tucson   NaN       85711   \n",
              "3                      935 Race St   Philadelphia    CA       19107   \n",
              "4                    101 Walnut St     Green Lane    MO       18054   \n",
              "\n",
              "    latitude   longitude stars review_count  ... state postal_code latitude  \\\n",
              "0  34.426679 -119.711197   5.0            7  ...   NaN         NaN      NaN   \n",
              "1  38.551126  -90.335695   3.0           15  ...   NaN         NaN      NaN   \n",
              "2  32.223236 -110.880452   3.5           22  ...   NaN         NaN      NaN   \n",
              "3  39.955505  -75.155564   4.0           80  ...   NaN         NaN      NaN   \n",
              "4  40.338183  -75.471659   4.5           13  ...   NaN         NaN      NaN   \n",
              "\n",
              "  longitude stars review_count is_open attributes categories hours  \n",
              "0       NaN   NaN          NaN     NaN        NaN        NaN   NaN  \n",
              "1       NaN   NaN          NaN     NaN        NaN        NaN   NaN  \n",
              "2       NaN   NaN          NaN     NaN        NaN        NaN   NaN  \n",
              "3       NaN   NaN          NaN     NaN        NaN        NaN   NaN  \n",
              "4       NaN   NaN          NaN     NaN        NaN        NaN   NaN  \n",
              "\n",
              "[5 rows x 28 columns]"
            ],
            "text/html": [
              "\n",
              "  <div id=\"df-8347a01f-a68c-4de2-9bc4-24a9835df93a\">\n",
              "    <div class=\"colab-df-container\">\n",
              "      <div>\n",
              "<style scoped>\n",
              "    .dataframe tbody tr th:only-of-type {\n",
              "        vertical-align: middle;\n",
              "    }\n",
              "\n",
              "    .dataframe tbody tr th {\n",
              "        vertical-align: top;\n",
              "    }\n",
              "\n",
              "    .dataframe thead th {\n",
              "        text-align: right;\n",
              "    }\n",
              "</style>\n",
              "<table border=\"1\" class=\"dataframe\">\n",
              "  <thead>\n",
              "    <tr style=\"text-align: right;\">\n",
              "      <th></th>\n",
              "      <th>business_id</th>\n",
              "      <th>name</th>\n",
              "      <th>address</th>\n",
              "      <th>city</th>\n",
              "      <th>state</th>\n",
              "      <th>postal_code</th>\n",
              "      <th>latitude</th>\n",
              "      <th>longitude</th>\n",
              "      <th>stars</th>\n",
              "      <th>review_count</th>\n",
              "      <th>...</th>\n",
              "      <th>state</th>\n",
              "      <th>postal_code</th>\n",
              "      <th>latitude</th>\n",
              "      <th>longitude</th>\n",
              "      <th>stars</th>\n",
              "      <th>review_count</th>\n",
              "      <th>is_open</th>\n",
              "      <th>attributes</th>\n",
              "      <th>categories</th>\n",
              "      <th>hours</th>\n",
              "    </tr>\n",
              "  </thead>\n",
              "  <tbody>\n",
              "    <tr>\n",
              "      <th>0</th>\n",
              "      <td>Pns2l4eNsfO8kk83dixA6A</td>\n",
              "      <td>Abby Rappoport, LAC, CMQ</td>\n",
              "      <td>1616 Chapala St, Ste 2</td>\n",
              "      <td>Santa Barbara</td>\n",
              "      <td>NaN</td>\n",
              "      <td>93101</td>\n",
              "      <td>34.426679</td>\n",
              "      <td>-119.711197</td>\n",
              "      <td>5.0</td>\n",
              "      <td>7</td>\n",
              "      <td>...</td>\n",
              "      <td>NaN</td>\n",
              "      <td>NaN</td>\n",
              "      <td>NaN</td>\n",
              "      <td>NaN</td>\n",
              "      <td>NaN</td>\n",
              "      <td>NaN</td>\n",
              "      <td>NaN</td>\n",
              "      <td>NaN</td>\n",
              "      <td>NaN</td>\n",
              "      <td>NaN</td>\n",
              "    </tr>\n",
              "    <tr>\n",
              "      <th>1</th>\n",
              "      <td>mpf3x-BjTdTEA3yCZrAYPw</td>\n",
              "      <td>The UPS Store</td>\n",
              "      <td>87 Grasso Plaza Shopping Center</td>\n",
              "      <td>Affton</td>\n",
              "      <td>NaN</td>\n",
              "      <td>63123</td>\n",
              "      <td>38.551126</td>\n",
              "      <td>-90.335695</td>\n",
              "      <td>3.0</td>\n",
              "      <td>15</td>\n",
              "      <td>...</td>\n",
              "      <td>NaN</td>\n",
              "      <td>NaN</td>\n",
              "      <td>NaN</td>\n",
              "      <td>NaN</td>\n",
              "      <td>NaN</td>\n",
              "      <td>NaN</td>\n",
              "      <td>NaN</td>\n",
              "      <td>NaN</td>\n",
              "      <td>NaN</td>\n",
              "      <td>NaN</td>\n",
              "    </tr>\n",
              "    <tr>\n",
              "      <th>2</th>\n",
              "      <td>tUFrWirKiKi_TAnsVWINQQ</td>\n",
              "      <td>Target</td>\n",
              "      <td>5255 E Broadway Blvd</td>\n",
              "      <td>Tucson</td>\n",
              "      <td>NaN</td>\n",
              "      <td>85711</td>\n",
              "      <td>32.223236</td>\n",
              "      <td>-110.880452</td>\n",
              "      <td>3.5</td>\n",
              "      <td>22</td>\n",
              "      <td>...</td>\n",
              "      <td>NaN</td>\n",
              "      <td>NaN</td>\n",
              "      <td>NaN</td>\n",
              "      <td>NaN</td>\n",
              "      <td>NaN</td>\n",
              "      <td>NaN</td>\n",
              "      <td>NaN</td>\n",
              "      <td>NaN</td>\n",
              "      <td>NaN</td>\n",
              "      <td>NaN</td>\n",
              "    </tr>\n",
              "    <tr>\n",
              "      <th>3</th>\n",
              "      <td>MTSW4McQd7CbVtyjqoe9mw</td>\n",
              "      <td>St Honore Pastries</td>\n",
              "      <td>935 Race St</td>\n",
              "      <td>Philadelphia</td>\n",
              "      <td>CA</td>\n",
              "      <td>19107</td>\n",
              "      <td>39.955505</td>\n",
              "      <td>-75.155564</td>\n",
              "      <td>4.0</td>\n",
              "      <td>80</td>\n",
              "      <td>...</td>\n",
              "      <td>NaN</td>\n",
              "      <td>NaN</td>\n",
              "      <td>NaN</td>\n",
              "      <td>NaN</td>\n",
              "      <td>NaN</td>\n",
              "      <td>NaN</td>\n",
              "      <td>NaN</td>\n",
              "      <td>NaN</td>\n",
              "      <td>NaN</td>\n",
              "      <td>NaN</td>\n",
              "    </tr>\n",
              "    <tr>\n",
              "      <th>4</th>\n",
              "      <td>mWMc6_wTdE0EUBKIGXDVfA</td>\n",
              "      <td>Perkiomen Valley Brewery</td>\n",
              "      <td>101 Walnut St</td>\n",
              "      <td>Green Lane</td>\n",
              "      <td>MO</td>\n",
              "      <td>18054</td>\n",
              "      <td>40.338183</td>\n",
              "      <td>-75.471659</td>\n",
              "      <td>4.5</td>\n",
              "      <td>13</td>\n",
              "      <td>...</td>\n",
              "      <td>NaN</td>\n",
              "      <td>NaN</td>\n",
              "      <td>NaN</td>\n",
              "      <td>NaN</td>\n",
              "      <td>NaN</td>\n",
              "      <td>NaN</td>\n",
              "      <td>NaN</td>\n",
              "      <td>NaN</td>\n",
              "      <td>NaN</td>\n",
              "      <td>NaN</td>\n",
              "    </tr>\n",
              "  </tbody>\n",
              "</table>\n",
              "<p>5 rows × 28 columns</p>\n",
              "</div>\n",
              "      <button class=\"colab-df-convert\" onclick=\"convertToInteractive('df-8347a01f-a68c-4de2-9bc4-24a9835df93a')\"\n",
              "              title=\"Convert this dataframe to an interactive table.\"\n",
              "              style=\"display:none;\">\n",
              "        \n",
              "  <svg xmlns=\"http://www.w3.org/2000/svg\" height=\"24px\"viewBox=\"0 0 24 24\"\n",
              "       width=\"24px\">\n",
              "    <path d=\"M0 0h24v24H0V0z\" fill=\"none\"/>\n",
              "    <path d=\"M18.56 5.44l.94 2.06.94-2.06 2.06-.94-2.06-.94-.94-2.06-.94 2.06-2.06.94zm-11 1L8.5 8.5l.94-2.06 2.06-.94-2.06-.94L8.5 2.5l-.94 2.06-2.06.94zm10 10l.94 2.06.94-2.06 2.06-.94-2.06-.94-.94-2.06-.94 2.06-2.06.94z\"/><path d=\"M17.41 7.96l-1.37-1.37c-.4-.4-.92-.59-1.43-.59-.52 0-1.04.2-1.43.59L10.3 9.45l-7.72 7.72c-.78.78-.78 2.05 0 2.83L4 21.41c.39.39.9.59 1.41.59.51 0 1.02-.2 1.41-.59l7.78-7.78 2.81-2.81c.8-.78.8-2.07 0-2.86zM5.41 20L4 18.59l7.72-7.72 1.47 1.35L5.41 20z\"/>\n",
              "  </svg>\n",
              "      </button>\n",
              "      \n",
              "  <style>\n",
              "    .colab-df-container {\n",
              "      display:flex;\n",
              "      flex-wrap:wrap;\n",
              "      gap: 12px;\n",
              "    }\n",
              "\n",
              "    .colab-df-convert {\n",
              "      background-color: #E8F0FE;\n",
              "      border: none;\n",
              "      border-radius: 50%;\n",
              "      cursor: pointer;\n",
              "      display: none;\n",
              "      fill: #1967D2;\n",
              "      height: 32px;\n",
              "      padding: 0 0 0 0;\n",
              "      width: 32px;\n",
              "    }\n",
              "\n",
              "    .colab-df-convert:hover {\n",
              "      background-color: #E2EBFA;\n",
              "      box-shadow: 0px 1px 2px rgba(60, 64, 67, 0.3), 0px 1px 3px 1px rgba(60, 64, 67, 0.15);\n",
              "      fill: #174EA6;\n",
              "    }\n",
              "\n",
              "    [theme=dark] .colab-df-convert {\n",
              "      background-color: #3B4455;\n",
              "      fill: #D2E3FC;\n",
              "    }\n",
              "\n",
              "    [theme=dark] .colab-df-convert:hover {\n",
              "      background-color: #434B5C;\n",
              "      box-shadow: 0px 1px 3px 1px rgba(0, 0, 0, 0.15);\n",
              "      filter: drop-shadow(0px 1px 2px rgba(0, 0, 0, 0.3));\n",
              "      fill: #FFFFFF;\n",
              "    }\n",
              "  </style>\n",
              "\n",
              "      <script>\n",
              "        const buttonEl =\n",
              "          document.querySelector('#df-8347a01f-a68c-4de2-9bc4-24a9835df93a button.colab-df-convert');\n",
              "        buttonEl.style.display =\n",
              "          google.colab.kernel.accessAllowed ? 'block' : 'none';\n",
              "\n",
              "        async function convertToInteractive(key) {\n",
              "          const element = document.querySelector('#df-8347a01f-a68c-4de2-9bc4-24a9835df93a');\n",
              "          const dataTable =\n",
              "            await google.colab.kernel.invokeFunction('convertToInteractive',\n",
              "                                                     [key], {});\n",
              "          if (!dataTable) return;\n",
              "\n",
              "          const docLinkHtml = 'Like what you see? Visit the ' +\n",
              "            '<a target=\"_blank\" href=https://colab.research.google.com/notebooks/data_table.ipynb>data table notebook</a>'\n",
              "            + ' to learn more about interactive tables.';\n",
              "          element.innerHTML = '';\n",
              "          dataTable['output_type'] = 'display_data';\n",
              "          await google.colab.output.renderOutput(dataTable, element);\n",
              "          const docLink = document.createElement('div');\n",
              "          docLink.innerHTML = docLinkHtml;\n",
              "          element.appendChild(docLink);\n",
              "        }\n",
              "      </script>\n",
              "    </div>\n",
              "  </div>\n",
              "  "
            ]
          },
          "metadata": {},
          "execution_count": 9
        }
      ]
    },
    {
      "cell_type": "code",
      "source": [
        "yelp_business.columns"
      ],
      "metadata": {
        "colab": {
          "base_uri": "https://localhost:8080/"
        },
        "id": "d5mD72jd6k5s",
        "outputId": "b2bc254b-eb7e-4c2f-dcda-21709f64905e"
      },
      "execution_count": 10,
      "outputs": [
        {
          "output_type": "execute_result",
          "data": {
            "text/plain": [
              "Index(['business_id', 'name', 'address', 'city', 'state', 'postal_code',\n",
              "       'latitude', 'longitude', 'stars', 'review_count', 'is_open',\n",
              "       'attributes', 'categories', 'hours', 'business_id', 'name', 'address',\n",
              "       'city', 'state', 'postal_code', 'latitude', 'longitude', 'stars',\n",
              "       'review_count', 'is_open', 'attributes', 'categories', 'hours'],\n",
              "      dtype='object')"
            ]
          },
          "metadata": {},
          "execution_count": 10
        }
      ]
    },
    {
      "cell_type": "code",
      "source": [
        "yelp_business.info()"
      ],
      "metadata": {
        "colab": {
          "base_uri": "https://localhost:8080/"
        },
        "id": "tn2UjV6EQ2bo",
        "outputId": "d7ca60e5-2839-4b31-9fa3-e226eaab23c8"
      },
      "execution_count": 11,
      "outputs": [
        {
          "output_type": "stream",
          "name": "stdout",
          "text": [
            "<class 'pandas.core.frame.DataFrame'>\n",
            "Int64Index: 150346 entries, 0 to 150345\n",
            "Data columns (total 28 columns):\n",
            " #   Column        Non-Null Count   Dtype \n",
            "---  ------        --------------   ----- \n",
            " 0   business_id   150346 non-null  object\n",
            " 1   name          150346 non-null  object\n",
            " 2   address       150346 non-null  object\n",
            " 3   city          150346 non-null  object\n",
            " 4   state         150343 non-null  object\n",
            " 5   postal_code   150346 non-null  object\n",
            " 6   latitude      150346 non-null  object\n",
            " 7   longitude     150346 non-null  object\n",
            " 8   stars         150346 non-null  object\n",
            " 9   review_count  150346 non-null  object\n",
            " 10  is_open       150346 non-null  object\n",
            " 11  attributes    136602 non-null  object\n",
            " 12  categories    150243 non-null  object\n",
            " 13  hours         127123 non-null  object\n",
            " 14  business_id   5 non-null       object\n",
            " 15  name          5 non-null       object\n",
            " 16  address       5 non-null       object\n",
            " 17  city          5 non-null       object\n",
            " 18  state         5 non-null       object\n",
            " 19  postal_code   5 non-null       object\n",
            " 20  latitude      5 non-null       object\n",
            " 21  longitude     5 non-null       object\n",
            " 22  stars         5 non-null       object\n",
            " 23  review_count  5 non-null       object\n",
            " 24  is_open       5 non-null       object\n",
            " 25  attributes    5 non-null       object\n",
            " 26  categories    5 non-null       object\n",
            " 27  hours         5 non-null       object\n",
            "dtypes: object(28)\n",
            "memory usage: 33.3+ MB\n"
          ]
        }
      ]
    },
    {
      "cell_type": "markdown",
      "source": [
        "## Drop extra columns and change data types"
      ],
      "metadata": {
        "id": "eRYQECJ46pYr"
      }
    },
    {
      "cell_type": "code",
      "source": [
        "index_to_drop = 14\n",
        "yelp_business = yelp_business.iloc[:, :index_to_drop]\n",
        "\n",
        "yelp_business['stars'] = yelp_business['stars'].astype(float)\n",
        "yelp_business['review_count'] = yelp_business['review_count'].astype(int)\n",
        "yelp_business['is_open'] = yelp_business['is_open'].astype(int)\n",
        "yelp_business['latitude'] = yelp_business['latitude'].astype(float)\n",
        "yelp_business['longitude'] = yelp_business['longitude'].astype(float)"
      ],
      "metadata": {
        "id": "TJcWhk_hqbwe",
        "colab": {
          "base_uri": "https://localhost:8080/"
        },
        "outputId": "abed9c77-e08b-4ffa-e13b-b188056ea587"
      },
      "execution_count": 12,
      "outputs": [
        {
          "output_type": "stream",
          "name": "stderr",
          "text": [
            "<ipython-input-12-1ebe192ae53a>:4: SettingWithCopyWarning: \n",
            "A value is trying to be set on a copy of a slice from a DataFrame.\n",
            "Try using .loc[row_indexer,col_indexer] = value instead\n",
            "\n",
            "See the caveats in the documentation: https://pandas.pydata.org/pandas-docs/stable/user_guide/indexing.html#returning-a-view-versus-a-copy\n",
            "  yelp_business['stars'] = yelp_business['stars'].astype(float)\n"
          ]
        }
      ]
    },
    {
      "cell_type": "code",
      "source": [
        "yelp_business.describe()"
      ],
      "metadata": {
        "colab": {
          "base_uri": "https://localhost:8080/",
          "height": 300
        },
        "id": "8fQdOko2iQEz",
        "outputId": "024f6e44-ae2e-42a9-8e1a-73fd8f02d056"
      },
      "execution_count": 13,
      "outputs": [
        {
          "output_type": "execute_result",
          "data": {
            "text/plain": [
              "            latitude      longitude          stars   review_count  \\\n",
              "count  150346.000000  150346.000000  150346.000000  150346.000000   \n",
              "mean       36.671150     -89.357339       3.596724      44.866561   \n",
              "std         5.872759      14.918502       0.974421     121.120136   \n",
              "min        27.555127    -120.095137       1.000000       5.000000   \n",
              "25%        32.187293     -90.357810       3.000000       8.000000   \n",
              "50%        38.777413     -86.121179       3.500000      15.000000   \n",
              "75%        39.954036     -75.421542       4.500000      37.000000   \n",
              "max        53.679197     -73.200457       5.000000    7568.000000   \n",
              "\n",
              "            is_open  \n",
              "count  150346.00000  \n",
              "mean        0.79615  \n",
              "std         0.40286  \n",
              "min         0.00000  \n",
              "25%         1.00000  \n",
              "50%         1.00000  \n",
              "75%         1.00000  \n",
              "max         1.00000  "
            ],
            "text/html": [
              "\n",
              "  <div id=\"df-114ec7ad-6c09-4bef-93ce-f331bab15c77\">\n",
              "    <div class=\"colab-df-container\">\n",
              "      <div>\n",
              "<style scoped>\n",
              "    .dataframe tbody tr th:only-of-type {\n",
              "        vertical-align: middle;\n",
              "    }\n",
              "\n",
              "    .dataframe tbody tr th {\n",
              "        vertical-align: top;\n",
              "    }\n",
              "\n",
              "    .dataframe thead th {\n",
              "        text-align: right;\n",
              "    }\n",
              "</style>\n",
              "<table border=\"1\" class=\"dataframe\">\n",
              "  <thead>\n",
              "    <tr style=\"text-align: right;\">\n",
              "      <th></th>\n",
              "      <th>latitude</th>\n",
              "      <th>longitude</th>\n",
              "      <th>stars</th>\n",
              "      <th>review_count</th>\n",
              "      <th>is_open</th>\n",
              "    </tr>\n",
              "  </thead>\n",
              "  <tbody>\n",
              "    <tr>\n",
              "      <th>count</th>\n",
              "      <td>150346.000000</td>\n",
              "      <td>150346.000000</td>\n",
              "      <td>150346.000000</td>\n",
              "      <td>150346.000000</td>\n",
              "      <td>150346.00000</td>\n",
              "    </tr>\n",
              "    <tr>\n",
              "      <th>mean</th>\n",
              "      <td>36.671150</td>\n",
              "      <td>-89.357339</td>\n",
              "      <td>3.596724</td>\n",
              "      <td>44.866561</td>\n",
              "      <td>0.79615</td>\n",
              "    </tr>\n",
              "    <tr>\n",
              "      <th>std</th>\n",
              "      <td>5.872759</td>\n",
              "      <td>14.918502</td>\n",
              "      <td>0.974421</td>\n",
              "      <td>121.120136</td>\n",
              "      <td>0.40286</td>\n",
              "    </tr>\n",
              "    <tr>\n",
              "      <th>min</th>\n",
              "      <td>27.555127</td>\n",
              "      <td>-120.095137</td>\n",
              "      <td>1.000000</td>\n",
              "      <td>5.000000</td>\n",
              "      <td>0.00000</td>\n",
              "    </tr>\n",
              "    <tr>\n",
              "      <th>25%</th>\n",
              "      <td>32.187293</td>\n",
              "      <td>-90.357810</td>\n",
              "      <td>3.000000</td>\n",
              "      <td>8.000000</td>\n",
              "      <td>1.00000</td>\n",
              "    </tr>\n",
              "    <tr>\n",
              "      <th>50%</th>\n",
              "      <td>38.777413</td>\n",
              "      <td>-86.121179</td>\n",
              "      <td>3.500000</td>\n",
              "      <td>15.000000</td>\n",
              "      <td>1.00000</td>\n",
              "    </tr>\n",
              "    <tr>\n",
              "      <th>75%</th>\n",
              "      <td>39.954036</td>\n",
              "      <td>-75.421542</td>\n",
              "      <td>4.500000</td>\n",
              "      <td>37.000000</td>\n",
              "      <td>1.00000</td>\n",
              "    </tr>\n",
              "    <tr>\n",
              "      <th>max</th>\n",
              "      <td>53.679197</td>\n",
              "      <td>-73.200457</td>\n",
              "      <td>5.000000</td>\n",
              "      <td>7568.000000</td>\n",
              "      <td>1.00000</td>\n",
              "    </tr>\n",
              "  </tbody>\n",
              "</table>\n",
              "</div>\n",
              "      <button class=\"colab-df-convert\" onclick=\"convertToInteractive('df-114ec7ad-6c09-4bef-93ce-f331bab15c77')\"\n",
              "              title=\"Convert this dataframe to an interactive table.\"\n",
              "              style=\"display:none;\">\n",
              "        \n",
              "  <svg xmlns=\"http://www.w3.org/2000/svg\" height=\"24px\"viewBox=\"0 0 24 24\"\n",
              "       width=\"24px\">\n",
              "    <path d=\"M0 0h24v24H0V0z\" fill=\"none\"/>\n",
              "    <path d=\"M18.56 5.44l.94 2.06.94-2.06 2.06-.94-2.06-.94-.94-2.06-.94 2.06-2.06.94zm-11 1L8.5 8.5l.94-2.06 2.06-.94-2.06-.94L8.5 2.5l-.94 2.06-2.06.94zm10 10l.94 2.06.94-2.06 2.06-.94-2.06-.94-.94-2.06-.94 2.06-2.06.94z\"/><path d=\"M17.41 7.96l-1.37-1.37c-.4-.4-.92-.59-1.43-.59-.52 0-1.04.2-1.43.59L10.3 9.45l-7.72 7.72c-.78.78-.78 2.05 0 2.83L4 21.41c.39.39.9.59 1.41.59.51 0 1.02-.2 1.41-.59l7.78-7.78 2.81-2.81c.8-.78.8-2.07 0-2.86zM5.41 20L4 18.59l7.72-7.72 1.47 1.35L5.41 20z\"/>\n",
              "  </svg>\n",
              "      </button>\n",
              "      \n",
              "  <style>\n",
              "    .colab-df-container {\n",
              "      display:flex;\n",
              "      flex-wrap:wrap;\n",
              "      gap: 12px;\n",
              "    }\n",
              "\n",
              "    .colab-df-convert {\n",
              "      background-color: #E8F0FE;\n",
              "      border: none;\n",
              "      border-radius: 50%;\n",
              "      cursor: pointer;\n",
              "      display: none;\n",
              "      fill: #1967D2;\n",
              "      height: 32px;\n",
              "      padding: 0 0 0 0;\n",
              "      width: 32px;\n",
              "    }\n",
              "\n",
              "    .colab-df-convert:hover {\n",
              "      background-color: #E2EBFA;\n",
              "      box-shadow: 0px 1px 2px rgba(60, 64, 67, 0.3), 0px 1px 3px 1px rgba(60, 64, 67, 0.15);\n",
              "      fill: #174EA6;\n",
              "    }\n",
              "\n",
              "    [theme=dark] .colab-df-convert {\n",
              "      background-color: #3B4455;\n",
              "      fill: #D2E3FC;\n",
              "    }\n",
              "\n",
              "    [theme=dark] .colab-df-convert:hover {\n",
              "      background-color: #434B5C;\n",
              "      box-shadow: 0px 1px 3px 1px rgba(0, 0, 0, 0.15);\n",
              "      filter: drop-shadow(0px 1px 2px rgba(0, 0, 0, 0.3));\n",
              "      fill: #FFFFFF;\n",
              "    }\n",
              "  </style>\n",
              "\n",
              "      <script>\n",
              "        const buttonEl =\n",
              "          document.querySelector('#df-114ec7ad-6c09-4bef-93ce-f331bab15c77 button.colab-df-convert');\n",
              "        buttonEl.style.display =\n",
              "          google.colab.kernel.accessAllowed ? 'block' : 'none';\n",
              "\n",
              "        async function convertToInteractive(key) {\n",
              "          const element = document.querySelector('#df-114ec7ad-6c09-4bef-93ce-f331bab15c77');\n",
              "          const dataTable =\n",
              "            await google.colab.kernel.invokeFunction('convertToInteractive',\n",
              "                                                     [key], {});\n",
              "          if (!dataTable) return;\n",
              "\n",
              "          const docLinkHtml = 'Like what you see? Visit the ' +\n",
              "            '<a target=\"_blank\" href=https://colab.research.google.com/notebooks/data_table.ipynb>data table notebook</a>'\n",
              "            + ' to learn more about interactive tables.';\n",
              "          element.innerHTML = '';\n",
              "          dataTable['output_type'] = 'display_data';\n",
              "          await google.colab.output.renderOutput(dataTable, element);\n",
              "          const docLink = document.createElement('div');\n",
              "          docLink.innerHTML = docLinkHtml;\n",
              "          element.appendChild(docLink);\n",
              "        }\n",
              "      </script>\n",
              "    </div>\n",
              "  </div>\n",
              "  "
            ]
          },
          "metadata": {},
          "execution_count": 13
        }
      ]
    },
    {
      "cell_type": "markdown",
      "source": [
        "## Null values analysis"
      ],
      "metadata": {
        "id": "3m4tX8yT6QvF"
      }
    },
    {
      "cell_type": "code",
      "source": [
        "# Number of nulls per column\n",
        "print(yelp_business.isnull().sum())\n",
        "# Calculate the percentage of null values in each column\n",
        "null_percentages = (yelp_business.isnull().sum() / len(yelp_business)) * 100\n",
        "# Filter the null_percentages series to include only columns with more than 0 nulls\n",
        "filtered_null_percentages = null_percentages[null_percentages > 0]\n",
        "# Create a bar plot to visualize the percentages of null values for filtered columns\n",
        "filtered_null_percentages.plot(kind='bar', figsize=(10, 6))\n",
        "plt.xlabel('Columns')\n",
        "plt.ylabel('Percentage of Null Values')\n",
        "plt.title('Percentage of Null Values in Columns with More Than 0 Nulls')\n",
        "plt.xticks(rotation=45)\n",
        "plt.show()"
      ],
      "metadata": {
        "colab": {
          "base_uri": "https://localhost:8080/",
          "height": 872
        },
        "id": "cuFBPRtF55FR",
        "outputId": "ef3d45a7-c9d5-4208-f9af-f94094acef58"
      },
      "execution_count": 14,
      "outputs": [
        {
          "output_type": "stream",
          "name": "stdout",
          "text": [
            "business_id         0\n",
            "name                0\n",
            "address             0\n",
            "city                0\n",
            "state               3\n",
            "postal_code         0\n",
            "latitude            0\n",
            "longitude           0\n",
            "stars               0\n",
            "review_count        0\n",
            "is_open             0\n",
            "attributes      13744\n",
            "categories        103\n",
            "hours           23223\n",
            "dtype: int64\n"
          ]
        },
        {
          "output_type": "display_data",
          "data": {
            "text/plain": [
              "<Figure size 1000x600 with 1 Axes>"
            ],
            "image/png": "[encoded data removed]"
          },
          "metadata": {}
        }
      ]
    },
    {
      "cell_type": "markdown",
      "source": [
        "## Duplicates analysis"
      ],
      "metadata": {
        "id": "scDdN8w06Wu3"
      }
    },
    {
      "cell_type": "code",
      "source": [
        "yelp_business_no_dict = yelp_business.drop(['attributes', 'categories', 'hours'], axis=1)\n",
        "yelp_business_no_dict.duplicated().sum()"
      ],
      "metadata": {
        "colab": {
          "base_uri": "https://localhost:8080/"
        },
        "id": "65sPxa8-UrCR",
        "outputId": "62d81a91-8256-41f9-cca1-e0fff4fa0502"
      },
      "execution_count": 15,
      "outputs": [
        {
          "output_type": "execute_result",
          "data": {
            "text/plain": [
              "0"
            ]
          },
          "metadata": {},
          "execution_count": 15
        }
      ]
    },
    {
      "cell_type": "markdown",
      "source": [
        "## Check 'is_open' column and coordenates columns integrity"
      ],
      "metadata": {
        "id": "UbrNqlnQ7f5z"
      }
    },
    {
      "cell_type": "code",
      "source": [
        "is_open_values = yelp_business['is_open'].unique()\n",
        "if len(is_open_values) == 2 and set(is_open_values) == {0, 1}:\n",
        "    print(\"The 'is_open' column contains only 0 and 1 values.\")\n",
        "else:\n",
        "    print(\"The 'is_open' column contains inconsistent values.\")"
      ],
      "metadata": {
        "colab": {
          "base_uri": "https://localhost:8080/"
        },
        "id": "7O4dENB_xdCI",
        "outputId": "20c19a7e-69c1-43e9-9b33-f5bcd66987f8"
      },
      "execution_count": 16,
      "outputs": [
        {
          "output_type": "stream",
          "name": "stdout",
          "text": [
            "The 'is_open' column contains only 0 and 1 values.\n"
          ]
        }
      ]
    },
    {
      "cell_type": "code",
      "source": [
        "latitude_range = (yelp_business['latitude'].between(-90, 90)).all()\n",
        "longitude_range = (yelp_business['longitude'].between(-180, 180)).all()\n",
        "\n",
        "if latitude_range and longitude_range:\n",
        "    print(\"The latitude and longitude values fall within valid ranges for the United States.\")\n",
        "else:\n",
        "    print(\"There are latitude or longitude values outside the valid ranges for the United States.\")\n"
      ],
      "metadata": {
        "colab": {
          "base_uri": "https://localhost:8080/"
        },
        "id": "21z7t5xyyKQO",
        "outputId": "81d8dd96-39da-4cbf-c2cd-3d951ff4c033"
      },
      "execution_count": 17,
      "outputs": [
        {
          "output_type": "stream",
          "name": "stdout",
          "text": [
            "The latitude and longitude values fall within valid ranges for the United States.\n"
          ]
        }
      ]
    },
    {
      "cell_type": "markdown",
      "source": [
        "## Visuals"
      ],
      "metadata": {
        "id": "xnACnCN77vpw"
      }
    },
    {
      "cell_type": "code",
      "source": [
        "# Plotting boxplot for \"review_count\"\n",
        "plt.boxplot(yelp_business['review_count'])\n",
        "plt.xlabel('Review Count')\n",
        "plt.ylabel('Frequency')\n",
        "plt.title('Distribution of Review Count')\n",
        "plt.show()"
      ],
      "metadata": {
        "colab": {
          "base_uri": "https://localhost:8080/",
          "height": 472
        },
        "id": "MWDDmCymzGgi",
        "outputId": "b189e51e-699f-40aa-b41d-3195e0e75cf9"
      },
      "execution_count": 18,
      "outputs": [
        {
          "output_type": "display_data",
          "data": {
            "text/plain": [
              "<Figure size 640x480 with 1 Axes>"
            ],
            "image/png": "[encoded data removed]"
          },
          "metadata": {}
        }
      ]
    },
    {
      "cell_type": "code",
      "source": [
        "plt.scatter(yelp_business['stars'], yelp_business['review_count'])\n",
        "plt.xlabel('Stars')\n",
        "plt.ylabel('Review Count')\n",
        "plt.title('Correlation between Stars and Review Count')\n",
        "plt.show()"
      ],
      "metadata": {
        "colab": {
          "base_uri": "https://localhost:8080/",
          "height": 472
        },
        "id": "RgcWxzrZ1fxP",
        "outputId": "ce5d91b6-2ec4-4333-d4e7-ac75d1c21fbd"
      },
      "execution_count": 19,
      "outputs": [
        {
          "output_type": "display_data",
          "data": {
            "text/plain": [
              "<Figure size 640x480 with 1 Axes>"
            ],
            "image/png": "[encoded data removed]"
          },
          "metadata": {}
        }
      ]
    },
    {
      "cell_type": "markdown",
      "source": [
        "# review.json\n",
        "\n",
        "Observations:\n",
        "- There are 6.990.280 rows and 9 columns.\n",
        "- Seems to be no null or duplicated value\n",
        "- date column is string type"
      ],
      "metadata": {
        "id": "G5tokxVe8JoF"
      }
    },
    {
      "cell_type": "code",
      "source": [
        "# Define the path pattern for the JSON file\n",
        "yelp_review_file_path = '/content/drive/MyDrive/Yelp/review.json'\n",
        "\n",
        "# Create a SparkSession\n",
        "spark = SparkSession.builder.getOrCreate()\n",
        "\n",
        "# Read the JSON files into Spark DataFrames\n",
        "yelp_reviews = spark.read.json(yelp_review_file_path)"
      ],
      "metadata": {
        "id": "wCKFKqItLycB"
      },
      "execution_count": 20,
      "outputs": []
    },
    {
      "cell_type": "code",
      "source": [
        "yelp_reviews.show()"
      ],
      "metadata": {
        "colab": {
          "base_uri": "https://localhost:8080/"
        },
        "id": "-Ky-9dm6L2Cv",
        "outputId": "f864e72e-2b65-49ab-b5dc-1044d89ea56b"
      },
      "execution_count": 21,
      "outputs": [
        {
          "output_type": "stream",
          "name": "stdout",
          "text": [
            "+--------------------+----+-------------------+-----+--------------------+-----+--------------------+------+--------------------+\n",
            "|         business_id|cool|               date|funny|           review_id|stars|                text|useful|             user_id|\n",
            "+--------------------+----+-------------------+-----+--------------------+-----+--------------------+------+--------------------+\n",
            "|XQfwVwDr-v0ZS3_Cb...|   0|2018-07-07 22:09:11|    0|KU_O5udG6zpxOg-Vc...|  3.0|If you decide to ...|     0|mh_-eMZ6K5RLWhZyI...|\n",
            "|7ATYjTIgM3jUlt4UM...|   1|2012-01-03 15:28:18|    0|BiTunyQ73aT9WBnpR...|  5.0|I've taken a lot ...|     1|OyoGAe7OKpv6SyGZT...|\n",
            "|YjUWPpI6HXG530lwP...|   0|2014-02-05 20:30:30|    0|saUsX_uimxRlCVr67...|  3.0|Family diner. Had...|     0|8g_iMtfSiwikVnbP2...|\n",
            "|kxX2SOes4o-D3ZQBk...|   1|2015-01-04 00:01:03|    0|AqPFMleE6RsU23_au...|  5.0|Wow!  Yummy, diff...|     1|_7bHUi9Uuf5__HHc_...|\n",
            "|e4Vwtrqf-wpJfwesg...|   1|2017-01-14 20:54:15|    0|Sx8TMOWLNuJBWer-0...|  4.0|Cute interior and...|     1|bcjbaE6dDog4jkNY9...|\n",
            "|04UD14gamNjLY0IDY...|   1|2015-09-23 23:10:31|    2|JrIxlS1TzJ-iCu79u...|  1.0|I am a long term ...|     1|eUta8W_HdHMXPzLBB...|\n",
            "|gmjsEdUsKpj9Xxu6p...|   0|2015-01-03 23:21:18|    2|6AxgBCNX_PNTOxmbR...|  5.0|Loved this tour! ...|     0|r3zeYsv1XFBRA4dJp...|\n",
            "|LHSTtnW3YHCeUkRDG...|   0|2015-08-07 02:29:16|    0|_ZeMknuYdlQcUqng_...|  5.0|Amazingly amazing...|     2|yfFzsLmaWF2d4Sr0U...|\n",
            "|B5XSoSG3SfvQGtKEG...|   0|2016-03-30 22:46:33|    1|ZKvDG2sBvHVdF5oBN...|  3.0|This easter inste...|     1|wSTuiTk-sKNdcFypr...|\n",
            "|gebiRewfieSdtt17P...|   0|2016-07-25 07:31:06|    0|pUycOfUwM8vqX7KjR...|  3.0|Had a party of 6 ...|     0|59MxRhNVhU9MYndMk...|\n",
            "|uMvVYRgGNXf5boolA...|   0|2015-06-21 14:48:06|    0|rGQRf8UafX7OTlMNN...|  5.0|My experience wit...|     2|1WHRWwQmZOZDAhp2Q...|\n",
            "|EQ-TZ2eeD_E0BHuvo...|   0|2015-08-19 14:31:45|    0|l3Wk_mvAog6XANIuG...|  4.0|Locals recommende...|     0|ZbqSHbgCjzVAqaa7N...|\n",
            "|lj-E32x9_FA7GmUrB...|   0|2014-06-27 22:44:01|    0|XW_LfMv0fV21l9c6x...|  4.0|Love going here f...|     0|9OAtfnWag-ajVxRbU...|\n",
            "|RZtGWDLCAtuipwaZ-...|   0|2009-10-14 19:57:14|    0|8JFGBuHMoiNDyfcxu...|  4.0|Good food--loved ...|     0|smOvOajNG0lS4Pq7d...|\n",
            "|otQS34_MymijPTdNB...|   0|2011-10-27 17:12:05|    2|UBp0zWyH60Hmw6Fsa...|  4.0|The bun makes the...|     0|4Uh27DgGzsp6PqrH9...|\n",
            "|BVndHaLihEYbr76Z0...|   0|2014-10-11 16:22:06|    0|OAhBYw8IQ6wlfw1ow...|  5.0|Great place for b...|     0|1C2lxzUo1Hyye4RFI...|\n",
            "|YtSqYv1Q_pOltsVPS...|   0|2013-06-24 11:21:25|    0|oyaMhzBSwfGgemSGu...|  5.0|Tremendous servic...|     0|Dd1jQj7S-BFGqRbAp...|\n",
            "|rBdG_23USc7DletfZ...|   0|2014-08-10 19:41:43|    0|LnGZB0fjfgeVDVz5I...|  4.0|The hubby and I h...|     1|j2wlzrntrbKwyOcOi...|\n",
            "|CLEWowfkj-wKYJlQD...|   1|2016-03-07 00:02:18|    0|u2vzZaOqJ2feRshaa...|  5.0|I go to blow bar ...|     2|NDZvyYHTUWWu-kqgQ...|\n",
            "|eFvzHawVJofxSnD7T...|   0|2014-11-12 15:30:27|    0|Xs8Z8lmKkosqW5mw_...|  5.0|My absolute favor...|     0|IQsF3Rc6IgCzjVV9D...|\n",
            "+--------------------+----+-------------------+-----+--------------------+-----+--------------------+------+--------------------+\n",
            "only showing top 20 rows\n",
            "\n"
          ]
        }
      ]
    },
    {
      "cell_type": "code",
      "source": [
        "# Get the shape (number of rows and columns) of the DataFrame:\n",
        "rows, columns = (yelp_reviews.count(), len(yelp_reviews.columns))\n",
        "f'There are {rows} rows and {columns} columns.'"
      ],
      "metadata": {
        "colab": {
          "base_uri": "https://localhost:8080/",
          "height": 35
        },
        "id": "sFz9klVuWj4m",
        "outputId": "09a7b9da-9e5c-4c4b-9346-830e3bca877d"
      },
      "execution_count": 22,
      "outputs": [
        {
          "output_type": "execute_result",
          "data": {
            "text/plain": [
              "'There are 6990280 rows and 9 columns.'"
            ],
            "application/vnd.google.colaboratory.intrinsic+json": {
              "type": "string"
            }
          },
          "metadata": {},
          "execution_count": 22
        }
      ]
    },
    {
      "cell_type": "code",
      "source": [
        "# To get information about the DataFrame, including column data types and null counts:\n",
        "yelp_reviews.printSchema()"
      ],
      "metadata": {
        "colab": {
          "base_uri": "https://localhost:8080/"
        },
        "id": "bCuQVH-aWlNq",
        "outputId": "09a81033-4dcb-4187-befe-ea7a6aad813f"
      },
      "execution_count": 23,
      "outputs": [
        {
          "output_type": "stream",
          "name": "stdout",
          "text": [
            "root\n",
            " |-- business_id: string (nullable = true)\n",
            " |-- cool: long (nullable = true)\n",
            " |-- date: string (nullable = true)\n",
            " |-- funny: long (nullable = true)\n",
            " |-- review_id: string (nullable = true)\n",
            " |-- stars: double (nullable = true)\n",
            " |-- text: string (nullable = true)\n",
            " |-- useful: long (nullable = true)\n",
            " |-- user_id: string (nullable = true)\n",
            "\n"
          ]
        }
      ]
    },
    {
      "cell_type": "code",
      "source": [
        "# To count the number of null values in each column:\n",
        "yelp_reviews.select([sum(col(c).isNull().cast(\"int\")).alias(c) for c in yelp_reviews.columns]).show()"
      ],
      "metadata": {
        "colab": {
          "base_uri": "https://localhost:8080/"
        },
        "id": "_Li6gGFpWnCz",
        "outputId": "70c79cf6-4f7e-43c2-f3d7-43838128fe5c"
      },
      "execution_count": 24,
      "outputs": [
        {
          "output_type": "stream",
          "name": "stdout",
          "text": [
            "+-----------+----+----+-----+---------+-----+----+------+-------+\n",
            "|business_id|cool|date|funny|review_id|stars|text|useful|user_id|\n",
            "+-----------+----+----+-----+---------+-----+----+------+-------+\n",
            "|          0|   0|   0|    0|        0|    0|   0|     0|      0|\n",
            "+-----------+----+----+-----+---------+-----+----+------+-------+\n",
            "\n"
          ]
        }
      ]
    },
    {
      "cell_type": "code",
      "source": [
        "# To count the number of duplicated rows in the DataFrame:\n",
        "yelp_reviews.groupBy(yelp_reviews.columns).count().filter(\"count > 1\").count()"
      ],
      "metadata": {
        "colab": {
          "base_uri": "https://localhost:8080/"
        },
        "id": "yUrEN3szW1iq",
        "outputId": "6900fea0-bd62-4916-aa13-f63a6e349f8d"
      },
      "execution_count": 25,
      "outputs": [
        {
          "output_type": "execute_result",
          "data": {
            "text/plain": [
              "0"
            ]
          },
          "metadata": {},
          "execution_count": 25
        }
      ]
    },
    {
      "cell_type": "code",
      "source": [
        "yelp_reviews.describe()"
      ],
      "metadata": {
        "colab": {
          "base_uri": "https://localhost:8080/"
        },
        "id": "qSkmxOyrZ4Q4",
        "outputId": "fab808ec-1f6b-49bc-c34c-ab02f8bbb582"
      },
      "execution_count": 26,
      "outputs": [
        {
          "output_type": "execute_result",
          "data": {
            "text/plain": [
              "DataFrame[summary: string, business_id: string, cool: string, date: string, funny: string, review_id: string, stars: string, text: string, useful: string, user_id: string]"
            ]
          },
          "metadata": {},
          "execution_count": 26
        }
      ]
    },
    {
      "cell_type": "code",
      "source": [
        "numerical_cols = ['cool', 'funny', 'stars', 'useful']\n",
        "yelp_reviews.select(numerical_cols).describe().show()"
      ],
      "metadata": {
        "colab": {
          "base_uri": "https://localhost:8080/"
        },
        "id": "IauVfYswa4HV",
        "outputId": "b42d78c6-b505-4fde-8a02-03828ca43757"
      },
      "execution_count": 27,
      "outputs": [
        {
          "output_type": "stream",
          "name": "stdout",
          "text": [
            "+-------+------------------+-------------------+------------------+------------------+\n",
            "|summary|              cool|              funny|             stars|            useful|\n",
            "+-------+------------------+-------------------+------------------+------------------+\n",
            "|  count|           6990280|            6990280|           6990280|           6990280|\n",
            "|   mean|0.4986175088837643|0.32655959417934616|  3.74858374771826|1.1846089140921394|\n",
            "| stddev|2.1724598202111864| 1.6887290985540495|1.4787045052556855| 3.253766966933363|\n",
            "|    min|                -1|                 -1|               1.0|                -1|\n",
            "|    max|               404|                792|               5.0|              1182|\n",
            "+-------+------------------+-------------------+------------------+------------------+\n",
            "\n"
          ]
        }
      ]
    },
    {
      "cell_type": "markdown",
      "source": [
        "# user.parquet\n",
        "\n",
        "Observations:\n",
        "- There are 2.105.597 rows and 22 columns.\n",
        "- Seems to be no null\n",
        "- Seems to be 117.700 duplicated values\n",
        "- I do not know if there are outliers"
      ],
      "metadata": {
        "id": "79JmRLRWcl5F"
      }
    },
    {
      "cell_type": "code",
      "source": [
        "# Define the path pattern for the JSON file\n",
        "yelp_user_file_path = '/content/drive/MyDrive/Yelp/user.parquet'\n",
        "\n",
        "# Read the JSON files into Spark DataFrames\n",
        "yelp_user = pd.read_parquet(yelp_user_file_path)"
      ],
      "metadata": {
        "id": "4xsxTbCrcret"
      },
      "execution_count": 28,
      "outputs": []
    },
    {
      "cell_type": "code",
      "source": [
        "rows, columns = yelp_user.shape\n",
        "f'There are {rows} rows and {columns} columns.'"
      ],
      "metadata": {
        "colab": {
          "base_uri": "https://localhost:8080/",
          "height": 35
        },
        "id": "N4x10cwRdcnd",
        "outputId": "14b5cdd3-54e5-4014-ed45-078da3512db1"
      },
      "execution_count": 29,
      "outputs": [
        {
          "output_type": "execute_result",
          "data": {
            "text/plain": [
              "'There are 2105597 rows and 22 columns.'"
            ],
            "application/vnd.google.colaboratory.intrinsic+json": {
              "type": "string"
            }
          },
          "metadata": {},
          "execution_count": 29
        }
      ]
    },
    {
      "cell_type": "code",
      "source": [
        "yelp_user.head()"
      ],
      "metadata": {
        "colab": {
          "base_uri": "https://localhost:8080/",
          "height": 386
        },
        "id": "765rCELlc4BM",
        "outputId": "62098385-02ce-4b6f-8d16-7c34dd2f1f37"
      },
      "execution_count": 30,
      "outputs": [
        {
          "output_type": "execute_result",
          "data": {
            "text/plain": [
              "                  user_id    name  review_count        yelping_since  useful  \\\n",
              "0  qVc8ODYU5SZjKXVBgXdI7w  Walker           585  2007-01-25 16:47:26    7217   \n",
              "1  j14WgRoU_-2ZE1aw1dXrJg  Daniel          4333  2009-01-25 04:35:42   43091   \n",
              "2  2WnXYQFK0hXEoTxPtV2zvg   Steph           665  2008-07-25 10:41:00    2086   \n",
              "3  SZDeASXq7o05mMNLshsdIA    Gwen           224  2005-11-29 04:38:33     512   \n",
              "4  hA5lMy-EnncsH4JoR-hFGQ   Karen            79  2007-01-05 19:40:59      29   \n",
              "\n",
              "   funny   cool                                              elite  \\\n",
              "0   1259   5994                                               2007   \n",
              "1  13066  27281  2009,2010,2011,2012,2013,2014,2015,2016,2017,2...   \n",
              "2   1010   1003                           2009,2010,2011,2012,2013   \n",
              "3    330    299                                     2009,2010,2011   \n",
              "4     15      7                                                      \n",
              "\n",
              "                                             friends  fans  ...  \\\n",
              "0  NSCy54eWehBJyZdG2iE84w, pe42u7DcCH2QmI81NX-8qA...   267  ...   \n",
              "1  ueRPE0CX75ePGMqOFVj6IQ, 52oH4DrRvzzl8wh5UXyU0A...  3138  ...   \n",
              "2  LuO3Bn4f3rlhyHIaNfTlnA, j9B4XdHUhDfTKVecyWQgyA...    52  ...   \n",
              "3  enx1vVPnfdNUdPho6PH_wg, 4wOcvMLtU6a9Lslggq74Vg...    28  ...   \n",
              "4  PBK4q9KEEBHhFvSXCUirIw, 3FWPpM7KU1gXeOM_ZbYMbA...     1  ...   \n",
              "\n",
              "   compliment_more  compliment_profile  compliment_cute  compliment_list  \\\n",
              "0               65                  55               56               18   \n",
              "1              264                 184              157              251   \n",
              "2               13                  10               17                3   \n",
              "3                4                   1                6                2   \n",
              "4                1                   0                0                0   \n",
              "\n",
              "   compliment_note  compliment_plain  compliment_cool  compliment_funny  \\\n",
              "0              232               844              467               467   \n",
              "1             1847              7054             3131              3131   \n",
              "2               66                96              119               119   \n",
              "3               12                16               26                26   \n",
              "4                1                 1                0                 0   \n",
              "\n",
              "   compliment_writer  compliment_photos  \n",
              "0                239                180  \n",
              "1               1521               1946  \n",
              "2                 35                 18  \n",
              "3                 10                  9  \n",
              "4                  0                  0  \n",
              "\n",
              "[5 rows x 22 columns]"
            ],
            "text/html": [
              "\n",
              "  <div id=\"df-f194d017-84bc-4a49-a40a-d25fd3378159\">\n",
              "    <div class=\"colab-df-container\">\n",
              "      <div>\n",
              "<style scoped>\n",
              "    .dataframe tbody tr th:only-of-type {\n",
              "        vertical-align: middle;\n",
              "    }\n",
              "\n",
              "    .dataframe tbody tr th {\n",
              "        vertical-align: top;\n",
              "    }\n",
              "\n",
              "    .dataframe thead th {\n",
              "        text-align: right;\n",
              "    }\n",
              "</style>\n",
              "<table border=\"1\" class=\"dataframe\">\n",
              "  <thead>\n",
              "    <tr style=\"text-align: right;\">\n",
              "      <th></th>\n",
              "      <th>user_id</th>\n",
              "      <th>name</th>\n",
              "      <th>review_count</th>\n",
              "      <th>yelping_since</th>\n",
              "      <th>useful</th>\n",
              "      <th>funny</th>\n",
              "      <th>cool</th>\n",
              "      <th>elite</th>\n",
              "      <th>friends</th>\n",
              "      <th>fans</th>\n",
              "      <th>...</th>\n",
              "      <th>compliment_more</th>\n",
              "      <th>compliment_profile</th>\n",
              "      <th>compliment_cute</th>\n",
              "      <th>compliment_list</th>\n",
              "      <th>compliment_note</th>\n",
              "      <th>compliment_plain</th>\n",
              "      <th>compliment_cool</th>\n",
              "      <th>compliment_funny</th>\n",
              "      <th>compliment_writer</th>\n",
              "      <th>compliment_photos</th>\n",
              "    </tr>\n",
              "  </thead>\n",
              "  <tbody>\n",
              "    <tr>\n",
              "      <th>0</th>\n",
              "      <td>qVc8ODYU5SZjKXVBgXdI7w</td>\n",
              "      <td>Walker</td>\n",
              "      <td>585</td>\n",
              "      <td>2007-01-25 16:47:26</td>\n",
              "      <td>7217</td>\n",
              "      <td>1259</td>\n",
              "      <td>5994</td>\n",
              "      <td>2007</td>\n",
              "      <td>NSCy54eWehBJyZdG2iE84w, pe42u7DcCH2QmI81NX-8qA...</td>\n",
              "      <td>267</td>\n",
              "      <td>...</td>\n",
              "      <td>65</td>\n",
              "      <td>55</td>\n",
              "      <td>56</td>\n",
              "      <td>18</td>\n",
              "      <td>232</td>\n",
              "      <td>844</td>\n",
              "      <td>467</td>\n",
              "      <td>467</td>\n",
              "      <td>239</td>\n",
              "      <td>180</td>\n",
              "    </tr>\n",
              "    <tr>\n",
              "      <th>1</th>\n",
              "      <td>j14WgRoU_-2ZE1aw1dXrJg</td>\n",
              "      <td>Daniel</td>\n",
              "      <td>4333</td>\n",
              "      <td>2009-01-25 04:35:42</td>\n",
              "      <td>43091</td>\n",
              "      <td>13066</td>\n",
              "      <td>27281</td>\n",
              "      <td>2009,2010,2011,2012,2013,2014,2015,2016,2017,2...</td>\n",
              "      <td>ueRPE0CX75ePGMqOFVj6IQ, 52oH4DrRvzzl8wh5UXyU0A...</td>\n",
              "      <td>3138</td>\n",
              "      <td>...</td>\n",
              "      <td>264</td>\n",
              "      <td>184</td>\n",
              "      <td>157</td>\n",
              "      <td>251</td>\n",
              "      <td>1847</td>\n",
              "      <td>7054</td>\n",
              "      <td>3131</td>\n",
              "      <td>3131</td>\n",
              "      <td>1521</td>\n",
              "      <td>1946</td>\n",
              "    </tr>\n",
              "    <tr>\n",
              "      <th>2</th>\n",
              "      <td>2WnXYQFK0hXEoTxPtV2zvg</td>\n",
              "      <td>Steph</td>\n",
              "      <td>665</td>\n",
              "      <td>2008-07-25 10:41:00</td>\n",
              "      <td>2086</td>\n",
              "      <td>1010</td>\n",
              "      <td>1003</td>\n",
              "      <td>2009,2010,2011,2012,2013</td>\n",
              "      <td>LuO3Bn4f3rlhyHIaNfTlnA, j9B4XdHUhDfTKVecyWQgyA...</td>\n",
              "      <td>52</td>\n",
              "      <td>...</td>\n",
              "      <td>13</td>\n",
              "      <td>10</td>\n",
              "      <td>17</td>\n",
              "      <td>3</td>\n",
              "      <td>66</td>\n",
              "      <td>96</td>\n",
              "      <td>119</td>\n",
              "      <td>119</td>\n",
              "      <td>35</td>\n",
              "      <td>18</td>\n",
              "    </tr>\n",
              "    <tr>\n",
              "      <th>3</th>\n",
              "      <td>SZDeASXq7o05mMNLshsdIA</td>\n",
              "      <td>Gwen</td>\n",
              "      <td>224</td>\n",
              "      <td>2005-11-29 04:38:33</td>\n",
              "      <td>512</td>\n",
              "      <td>330</td>\n",
              "      <td>299</td>\n",
              "      <td>2009,2010,2011</td>\n",
              "      <td>enx1vVPnfdNUdPho6PH_wg, 4wOcvMLtU6a9Lslggq74Vg...</td>\n",
              "      <td>28</td>\n",
              "      <td>...</td>\n",
              "      <td>4</td>\n",
              "      <td>1</td>\n",
              "      <td>6</td>\n",
              "      <td>2</td>\n",
              "      <td>12</td>\n",
              "      <td>16</td>\n",
              "      <td>26</td>\n",
              "      <td>26</td>\n",
              "      <td>10</td>\n",
              "      <td>9</td>\n",
              "    </tr>\n",
              "    <tr>\n",
              "      <th>4</th>\n",
              "      <td>hA5lMy-EnncsH4JoR-hFGQ</td>\n",
              "      <td>Karen</td>\n",
              "      <td>79</td>\n",
              "      <td>2007-01-05 19:40:59</td>\n",
              "      <td>29</td>\n",
              "      <td>15</td>\n",
              "      <td>7</td>\n",
              "      <td></td>\n",
              "      <td>PBK4q9KEEBHhFvSXCUirIw, 3FWPpM7KU1gXeOM_ZbYMbA...</td>\n",
              "      <td>1</td>\n",
              "      <td>...</td>\n",
              "      <td>1</td>\n",
              "      <td>0</td>\n",
              "      <td>0</td>\n",
              "      <td>0</td>\n",
              "      <td>1</td>\n",
              "      <td>1</td>\n",
              "      <td>0</td>\n",
              "      <td>0</td>\n",
              "      <td>0</td>\n",
              "      <td>0</td>\n",
              "    </tr>\n",
              "  </tbody>\n",
              "</table>\n",
              "<p>5 rows × 22 columns</p>\n",
              "</div>\n",
              "      <button class=\"colab-df-convert\" onclick=\"convertToInteractive('df-f194d017-84bc-4a49-a40a-d25fd3378159')\"\n",
              "              title=\"Convert this dataframe to an interactive table.\"\n",
              "              style=\"display:none;\">\n",
              "        \n",
              "  <svg xmlns=\"http://www.w3.org/2000/svg\" height=\"24px\"viewBox=\"0 0 24 24\"\n",
              "       width=\"24px\">\n",
              "    <path d=\"M0 0h24v24H0V0z\" fill=\"none\"/>\n",
              "    <path d=\"M18.56 5.44l.94 2.06.94-2.06 2.06-.94-2.06-.94-.94-2.06-.94 2.06-2.06.94zm-11 1L8.5 8.5l.94-2.06 2.06-.94-2.06-.94L8.5 2.5l-.94 2.06-2.06.94zm10 10l.94 2.06.94-2.06 2.06-.94-2.06-.94-.94-2.06-.94 2.06-2.06.94z\"/><path d=\"M17.41 7.96l-1.37-1.37c-.4-.4-.92-.59-1.43-.59-.52 0-1.04.2-1.43.59L10.3 9.45l-7.72 7.72c-.78.78-.78 2.05 0 2.83L4 21.41c.39.39.9.59 1.41.59.51 0 1.02-.2 1.41-.59l7.78-7.78 2.81-2.81c.8-.78.8-2.07 0-2.86zM5.41 20L4 18.59l7.72-7.72 1.47 1.35L5.41 20z\"/>\n",
              "  </svg>\n",
              "      </button>\n",
              "      \n",
              "  <style>\n",
              "    .colab-df-container {\n",
              "      display:flex;\n",
              "      flex-wrap:wrap;\n",
              "      gap: 12px;\n",
              "    }\n",
              "\n",
              "    .colab-df-convert {\n",
              "      background-color: #E8F0FE;\n",
              "      border: none;\n",
              "      border-radius: 50%;\n",
              "      cursor: pointer;\n",
              "      display: none;\n",
              "      fill: #1967D2;\n",
              "      height: 32px;\n",
              "      padding: 0 0 0 0;\n",
              "      width: 32px;\n",
              "    }\n",
              "\n",
              "    .colab-df-convert:hover {\n",
              "      background-color: #E2EBFA;\n",
              "      box-shadow: 0px 1px 2px rgba(60, 64, 67, 0.3), 0px 1px 3px 1px rgba(60, 64, 67, 0.15);\n",
              "      fill: #174EA6;\n",
              "    }\n",
              "\n",
              "    [theme=dark] .colab-df-convert {\n",
              "      background-color: #3B4455;\n",
              "      fill: #D2E3FC;\n",
              "    }\n",
              "\n",
              "    [theme=dark] .colab-df-convert:hover {\n",
              "      background-color: #434B5C;\n",
              "      box-shadow: 0px 1px 3px 1px rgba(0, 0, 0, 0.15);\n",
              "      filter: drop-shadow(0px 1px 2px rgba(0, 0, 0, 0.3));\n",
              "      fill: #FFFFFF;\n",
              "    }\n",
              "  </style>\n",
              "\n",
              "      <script>\n",
              "        const buttonEl =\n",
              "          document.querySelector('#df-f194d017-84bc-4a49-a40a-d25fd3378159 button.colab-df-convert');\n",
              "        buttonEl.style.display =\n",
              "          google.colab.kernel.accessAllowed ? 'block' : 'none';\n",
              "\n",
              "        async function convertToInteractive(key) {\n",
              "          const element = document.querySelector('#df-f194d017-84bc-4a49-a40a-d25fd3378159');\n",
              "          const dataTable =\n",
              "            await google.colab.kernel.invokeFunction('convertToInteractive',\n",
              "                                                     [key], {});\n",
              "          if (!dataTable) return;\n",
              "\n",
              "          const docLinkHtml = 'Like what you see? Visit the ' +\n",
              "            '<a target=\"_blank\" href=https://colab.research.google.com/notebooks/data_table.ipynb>data table notebook</a>'\n",
              "            + ' to learn more about interactive tables.';\n",
              "          element.innerHTML = '';\n",
              "          dataTable['output_type'] = 'display_data';\n",
              "          await google.colab.output.renderOutput(dataTable, element);\n",
              "          const docLink = document.createElement('div');\n",
              "          docLink.innerHTML = docLinkHtml;\n",
              "          element.appendChild(docLink);\n",
              "        }\n",
              "      </script>\n",
              "    </div>\n",
              "  </div>\n",
              "  "
            ]
          },
          "metadata": {},
          "execution_count": 30
        }
      ]
    },
    {
      "cell_type": "code",
      "source": [
        "yelp_user.columns"
      ],
      "metadata": {
        "colab": {
          "base_uri": "https://localhost:8080/"
        },
        "id": "PVyp_PCNdjJU",
        "outputId": "d07d6e01-27a9-42e0-a04d-10d4227fc5b7"
      },
      "execution_count": 31,
      "outputs": [
        {
          "output_type": "execute_result",
          "data": {
            "text/plain": [
              "Index(['user_id', 'name', 'review_count', 'yelping_since', 'useful', 'funny',\n",
              "       'cool', 'elite', 'friends', 'fans', 'average_stars', 'compliment_hot',\n",
              "       'compliment_more', 'compliment_profile', 'compliment_cute',\n",
              "       'compliment_list', 'compliment_note', 'compliment_plain',\n",
              "       'compliment_cool', 'compliment_funny', 'compliment_writer',\n",
              "       'compliment_photos'],\n",
              "      dtype='object')"
            ]
          },
          "metadata": {},
          "execution_count": 31
        }
      ]
    },
    {
      "cell_type": "code",
      "source": [
        "yelp_user.describe()"
      ],
      "metadata": {
        "colab": {
          "base_uri": "https://localhost:8080/",
          "height": 364
        },
        "id": "CAOcELLFdjwR",
        "outputId": "42a4e61c-81e9-4835-ed26-abc3bbebc9e0"
      },
      "execution_count": 32,
      "outputs": [
        {
          "output_type": "execute_result",
          "data": {
            "text/plain": [
              "       review_count        useful         funny          cool          fans  \\\n",
              "count  2.105597e+06  2.105597e+06  2.105597e+06  2.105597e+06  2.105597e+06   \n",
              "mean   2.846875e+01  5.516853e+01  2.267667e+01  3.143013e+01  1.913746e+00   \n",
              "std    1.042146e+02  7.388068e+02  4.628811e+02  6.379274e+02  2.436510e+01   \n",
              "min    0.000000e+00  0.000000e+00  0.000000e+00  0.000000e+00  0.000000e+00   \n",
              "25%    2.000000e+00  0.000000e+00  0.000000e+00  0.000000e+00  0.000000e+00   \n",
              "50%    6.000000e+00  3.000000e+00  0.000000e+00  0.000000e+00  0.000000e+00   \n",
              "75%    1.900000e+01  1.500000e+01  3.000000e+00  4.000000e+00  0.000000e+00   \n",
              "max    1.747300e+04  2.062960e+05  1.858230e+05  1.998780e+05  1.249700e+04   \n",
              "\n",
              "       average_stars  compliment_hot  compliment_more  compliment_profile  \\\n",
              "count   2.105597e+06    2.105597e+06     2.105597e+06        2.105597e+06   \n",
              "mean    3.641863e+00    2.444596e+00     3.968618e-01        2.532631e-01   \n",
              "std     1.159519e+00    7.963704e+01     1.405658e+01        1.767698e+01   \n",
              "min     1.000000e+00    0.000000e+00     0.000000e+00        0.000000e+00   \n",
              "25%     3.000000e+00    0.000000e+00     0.000000e+00        0.000000e+00   \n",
              "50%     3.880000e+00    0.000000e+00     0.000000e+00        0.000000e+00   \n",
              "75%     4.500000e+00    0.000000e+00     0.000000e+00        0.000000e+00   \n",
              "max     5.000000e+00    2.578400e+04     1.350100e+04        1.418000e+04   \n",
              "\n",
              "       compliment_cute  compliment_list  compliment_note  compliment_plain  \\\n",
              "count     2.105597e+06     2.105597e+06     2.105597e+06      2.105597e+06   \n",
              "mean      1.858665e-01     9.631663e-02     1.921464e+00      4.124809e+00   \n",
              "std       1.170051e+01     1.049796e+01     6.177753e+01      1.364953e+02   \n",
              "min       0.000000e+00     0.000000e+00     0.000000e+00      0.000000e+00   \n",
              "25%       0.000000e+00     0.000000e+00     0.000000e+00      0.000000e+00   \n",
              "50%       0.000000e+00     0.000000e+00     0.000000e+00      0.000000e+00   \n",
              "75%       0.000000e+00     0.000000e+00     0.000000e+00      0.000000e+00   \n",
              "max       1.365400e+04     1.266900e+04     5.903100e+04      1.010970e+05   \n",
              "\n",
              "       compliment_cool  compliment_funny  compliment_writer  compliment_photos  \n",
              "count     2.105597e+06      2.105597e+06       2.105597e+06       2.105597e+06  \n",
              "mean      3.805567e+00      3.805567e+00       1.459133e+00       1.499514e+00  \n",
              "std       1.057484e+02      1.057484e+02       3.676692e+01       9.607754e+01  \n",
              "min       0.000000e+00      0.000000e+00       0.000000e+00       0.000000e+00  \n",
              "25%       0.000000e+00      0.000000e+00       0.000000e+00       0.000000e+00  \n",
              "50%       0.000000e+00      0.000000e+00       0.000000e+00       0.000000e+00  \n",
              "75%       0.000000e+00      0.000000e+00       0.000000e+00       0.000000e+00  \n",
              "max       4.996700e+04      4.996700e+04       1.593400e+04       8.263000e+04  "
            ],
            "text/html": [
              "\n",
              "  <div id=\"df-84678a1f-f0ea-4eeb-809f-ae3d3ea99c9a\">\n",
              "    <div class=\"colab-df-container\">\n",
              "      <div>\n",
              "<style scoped>\n",
              "    .dataframe tbody tr th:only-of-type {\n",
              "        vertical-align: middle;\n",
              "    }\n",
              "\n",
              "    .dataframe tbody tr th {\n",
              "        vertical-align: top;\n",
              "    }\n",
              "\n",
              "    .dataframe thead th {\n",
              "        text-align: right;\n",
              "    }\n",
              "</style>\n",
              "<table border=\"1\" class=\"dataframe\">\n",
              "  <thead>\n",
              "    <tr style=\"text-align: right;\">\n",
              "      <th></th>\n",
              "      <th>review_count</th>\n",
              "      <th>useful</th>\n",
              "      <th>funny</th>\n",
              "      <th>cool</th>\n",
              "      <th>fans</th>\n",
              "      <th>average_stars</th>\n",
              "      <th>compliment_hot</th>\n",
              "      <th>compliment_more</th>\n",
              "      <th>compliment_profile</th>\n",
              "      <th>compliment_cute</th>\n",
              "      <th>compliment_list</th>\n",
              "      <th>compliment_note</th>\n",
              "      <th>compliment_plain</th>\n",
              "      <th>compliment_cool</th>\n",
              "      <th>compliment_funny</th>\n",
              "      <th>compliment_writer</th>\n",
              "      <th>compliment_photos</th>\n",
              "    </tr>\n",
              "  </thead>\n",
              "  <tbody>\n",
              "    <tr>\n",
              "      <th>count</th>\n",
              "      <td>2.105597e+06</td>\n",
              "      <td>2.105597e+06</td>\n",
              "      <td>2.105597e+06</td>\n",
              "      <td>2.105597e+06</td>\n",
              "      <td>2.105597e+06</td>\n",
              "      <td>2.105597e+06</td>\n",
              "      <td>2.105597e+06</td>\n",
              "      <td>2.105597e+06</td>\n",
              "      <td>2.105597e+06</td>\n",
              "      <td>2.105597e+06</td>\n",
              "      <td>2.105597e+06</td>\n",
              "      <td>2.105597e+06</td>\n",
              "      <td>2.105597e+06</td>\n",
              "      <td>2.105597e+06</td>\n",
              "      <td>2.105597e+06</td>\n",
              "      <td>2.105597e+06</td>\n",
              "      <td>2.105597e+06</td>\n",
              "    </tr>\n",
              "    <tr>\n",
              "      <th>mean</th>\n",
              "      <td>2.846875e+01</td>\n",
              "      <td>5.516853e+01</td>\n",
              "      <td>2.267667e+01</td>\n",
              "      <td>3.143013e+01</td>\n",
              "      <td>1.913746e+00</td>\n",
              "      <td>3.641863e+00</td>\n",
              "      <td>2.444596e+00</td>\n",
              "      <td>3.968618e-01</td>\n",
              "      <td>2.532631e-01</td>\n",
              "      <td>1.858665e-01</td>\n",
              "      <td>9.631663e-02</td>\n",
              "      <td>1.921464e+00</td>\n",
              "      <td>4.124809e+00</td>\n",
              "      <td>3.805567e+00</td>\n",
              "      <td>3.805567e+00</td>\n",
              "      <td>1.459133e+00</td>\n",
              "      <td>1.499514e+00</td>\n",
              "    </tr>\n",
              "    <tr>\n",
              "      <th>std</th>\n",
              "      <td>1.042146e+02</td>\n",
              "      <td>7.388068e+02</td>\n",
              "      <td>4.628811e+02</td>\n",
              "      <td>6.379274e+02</td>\n",
              "      <td>2.436510e+01</td>\n",
              "      <td>1.159519e+00</td>\n",
              "      <td>7.963704e+01</td>\n",
              "      <td>1.405658e+01</td>\n",
              "      <td>1.767698e+01</td>\n",
              "      <td>1.170051e+01</td>\n",
              "      <td>1.049796e+01</td>\n",
              "      <td>6.177753e+01</td>\n",
              "      <td>1.364953e+02</td>\n",
              "      <td>1.057484e+02</td>\n",
              "      <td>1.057484e+02</td>\n",
              "      <td>3.676692e+01</td>\n",
              "      <td>9.607754e+01</td>\n",
              "    </tr>\n",
              "    <tr>\n",
              "      <th>min</th>\n",
              "      <td>0.000000e+00</td>\n",
              "      <td>0.000000e+00</td>\n",
              "      <td>0.000000e+00</td>\n",
              "      <td>0.000000e+00</td>\n",
              "      <td>0.000000e+00</td>\n",
              "      <td>1.000000e+00</td>\n",
              "      <td>0.000000e+00</td>\n",
              "      <td>0.000000e+00</td>\n",
              "      <td>0.000000e+00</td>\n",
              "      <td>0.000000e+00</td>\n",
              "      <td>0.000000e+00</td>\n",
              "      <td>0.000000e+00</td>\n",
              "      <td>0.000000e+00</td>\n",
              "      <td>0.000000e+00</td>\n",
              "      <td>0.000000e+00</td>\n",
              "      <td>0.000000e+00</td>\n",
              "      <td>0.000000e+00</td>\n",
              "    </tr>\n",
              "    <tr>\n",
              "      <th>25%</th>\n",
              "      <td>2.000000e+00</td>\n",
              "      <td>0.000000e+00</td>\n",
              "      <td>0.000000e+00</td>\n",
              "      <td>0.000000e+00</td>\n",
              "      <td>0.000000e+00</td>\n",
              "      <td>3.000000e+00</td>\n",
              "      <td>0.000000e+00</td>\n",
              "      <td>0.000000e+00</td>\n",
              "      <td>0.000000e+00</td>\n",
              "      <td>0.000000e+00</td>\n",
              "      <td>0.000000e+00</td>\n",
              "      <td>0.000000e+00</td>\n",
              "      <td>0.000000e+00</td>\n",
              "      <td>0.000000e+00</td>\n",
              "      <td>0.000000e+00</td>\n",
              "      <td>0.000000e+00</td>\n",
              "      <td>0.000000e+00</td>\n",
              "    </tr>\n",
              "    <tr>\n",
              "      <th>50%</th>\n",
              "      <td>6.000000e+00</td>\n",
              "      <td>3.000000e+00</td>\n",
              "      <td>0.000000e+00</td>\n",
              "      <td>0.000000e+00</td>\n",
              "      <td>0.000000e+00</td>\n",
              "      <td>3.880000e+00</td>\n",
              "      <td>0.000000e+00</td>\n",
              "      <td>0.000000e+00</td>\n",
              "      <td>0.000000e+00</td>\n",
              "      <td>0.000000e+00</td>\n",
              "      <td>0.000000e+00</td>\n",
              "      <td>0.000000e+00</td>\n",
              "      <td>0.000000e+00</td>\n",
              "      <td>0.000000e+00</td>\n",
              "      <td>0.000000e+00</td>\n",
              "      <td>0.000000e+00</td>\n",
              "      <td>0.000000e+00</td>\n",
              "    </tr>\n",
              "    <tr>\n",
              "      <th>75%</th>\n",
              "      <td>1.900000e+01</td>\n",
              "      <td>1.500000e+01</td>\n",
              "      <td>3.000000e+00</td>\n",
              "      <td>4.000000e+00</td>\n",
              "      <td>0.000000e+00</td>\n",
              "      <td>4.500000e+00</td>\n",
              "      <td>0.000000e+00</td>\n",
              "      <td>0.000000e+00</td>\n",
              "      <td>0.000000e+00</td>\n",
              "      <td>0.000000e+00</td>\n",
              "      <td>0.000000e+00</td>\n",
              "      <td>0.000000e+00</td>\n",
              "      <td>0.000000e+00</td>\n",
              "      <td>0.000000e+00</td>\n",
              "      <td>0.000000e+00</td>\n",
              "      <td>0.000000e+00</td>\n",
              "      <td>0.000000e+00</td>\n",
              "    </tr>\n",
              "    <tr>\n",
              "      <th>max</th>\n",
              "      <td>1.747300e+04</td>\n",
              "      <td>2.062960e+05</td>\n",
              "      <td>1.858230e+05</td>\n",
              "      <td>1.998780e+05</td>\n",
              "      <td>1.249700e+04</td>\n",
              "      <td>5.000000e+00</td>\n",
              "      <td>2.578400e+04</td>\n",
              "      <td>1.350100e+04</td>\n",
              "      <td>1.418000e+04</td>\n",
              "      <td>1.365400e+04</td>\n",
              "      <td>1.266900e+04</td>\n",
              "      <td>5.903100e+04</td>\n",
              "      <td>1.010970e+05</td>\n",
              "      <td>4.996700e+04</td>\n",
              "      <td>4.996700e+04</td>\n",
              "      <td>1.593400e+04</td>\n",
              "      <td>8.263000e+04</td>\n",
              "    </tr>\n",
              "  </tbody>\n",
              "</table>\n",
              "</div>\n",
              "      <button class=\"colab-df-convert\" onclick=\"convertToInteractive('df-84678a1f-f0ea-4eeb-809f-ae3d3ea99c9a')\"\n",
              "              title=\"Convert this dataframe to an interactive table.\"\n",
              "              style=\"display:none;\">\n",
              "        \n",
              "  <svg xmlns=\"http://www.w3.org/2000/svg\" height=\"24px\"viewBox=\"0 0 24 24\"\n",
              "       width=\"24px\">\n",
              "    <path d=\"M0 0h24v24H0V0z\" fill=\"none\"/>\n",
              "    <path d=\"M18.56 5.44l.94 2.06.94-2.06 2.06-.94-2.06-.94-.94-2.06-.94 2.06-2.06.94zm-11 1L8.5 8.5l.94-2.06 2.06-.94-2.06-.94L8.5 2.5l-.94 2.06-2.06.94zm10 10l.94 2.06.94-2.06 2.06-.94-2.06-.94-.94-2.06-.94 2.06-2.06.94z\"/><path d=\"M17.41 7.96l-1.37-1.37c-.4-.4-.92-.59-1.43-.59-.52 0-1.04.2-1.43.59L10.3 9.45l-7.72 7.72c-.78.78-.78 2.05 0 2.83L4 21.41c.39.39.9.59 1.41.59.51 0 1.02-.2 1.41-.59l7.78-7.78 2.81-2.81c.8-.78.8-2.07 0-2.86zM5.41 20L4 18.59l7.72-7.72 1.47 1.35L5.41 20z\"/>\n",
              "  </svg>\n",
              "      </button>\n",
              "      \n",
              "  <style>\n",
              "    .colab-df-container {\n",
              "      display:flex;\n",
              "      flex-wrap:wrap;\n",
              "      gap: 12px;\n",
              "    }\n",
              "\n",
              "    .colab-df-convert {\n",
              "      background-color: #E8F0FE;\n",
              "      border: none;\n",
              "      border-radius: 50%;\n",
              "      cursor: pointer;\n",
              "      display: none;\n",
              "      fill: #1967D2;\n",
              "      height: 32px;\n",
              "      padding: 0 0 0 0;\n",
              "      width: 32px;\n",
              "    }\n",
              "\n",
              "    .colab-df-convert:hover {\n",
              "      background-color: #E2EBFA;\n",
              "      box-shadow: 0px 1px 2px rgba(60, 64, 67, 0.3), 0px 1px 3px 1px rgba(60, 64, 67, 0.15);\n",
              "      fill: #174EA6;\n",
              "    }\n",
              "\n",
              "    [theme=dark] .colab-df-convert {\n",
              "      background-color: #3B4455;\n",
              "      fill: #D2E3FC;\n",
              "    }\n",
              "\n",
              "    [theme=dark] .colab-df-convert:hover {\n",
              "      background-color: #434B5C;\n",
              "      box-shadow: 0px 1px 3px 1px rgba(0, 0, 0, 0.15);\n",
              "      filter: drop-shadow(0px 1px 2px rgba(0, 0, 0, 0.3));\n",
              "      fill: #FFFFFF;\n",
              "    }\n",
              "  </style>\n",
              "\n",
              "      <script>\n",
              "        const buttonEl =\n",
              "          document.querySelector('#df-84678a1f-f0ea-4eeb-809f-ae3d3ea99c9a button.colab-df-convert');\n",
              "        buttonEl.style.display =\n",
              "          google.colab.kernel.accessAllowed ? 'block' : 'none';\n",
              "\n",
              "        async function convertToInteractive(key) {\n",
              "          const element = document.querySelector('#df-84678a1f-f0ea-4eeb-809f-ae3d3ea99c9a');\n",
              "          const dataTable =\n",
              "            await google.colab.kernel.invokeFunction('convertToInteractive',\n",
              "                                                     [key], {});\n",
              "          if (!dataTable) return;\n",
              "\n",
              "          const docLinkHtml = 'Like what you see? Visit the ' +\n",
              "            '<a target=\"_blank\" href=https://colab.research.google.com/notebooks/data_table.ipynb>data table notebook</a>'\n",
              "            + ' to learn more about interactive tables.';\n",
              "          element.innerHTML = '';\n",
              "          dataTable['output_type'] = 'display_data';\n",
              "          await google.colab.output.renderOutput(dataTable, element);\n",
              "          const docLink = document.createElement('div');\n",
              "          docLink.innerHTML = docLinkHtml;\n",
              "          element.appendChild(docLink);\n",
              "        }\n",
              "      </script>\n",
              "    </div>\n",
              "  </div>\n",
              "  "
            ]
          },
          "metadata": {},
          "execution_count": 32
        }
      ]
    },
    {
      "cell_type": "code",
      "source": [
        "yelp_user.info()"
      ],
      "metadata": {
        "colab": {
          "base_uri": "https://localhost:8080/"
        },
        "id": "kMm5fw-EdsUp",
        "outputId": "77b2b187-8101-4596-97fe-7ef86438212a"
      },
      "execution_count": 33,
      "outputs": [
        {
          "output_type": "stream",
          "name": "stdout",
          "text": [
            "<class 'pandas.core.frame.DataFrame'>\n",
            "RangeIndex: 2105597 entries, 0 to 2105596\n",
            "Data columns (total 22 columns):\n",
            " #   Column              Dtype  \n",
            "---  ------              -----  \n",
            " 0   user_id             object \n",
            " 1   name                object \n",
            " 2   review_count        int64  \n",
            " 3   yelping_since       object \n",
            " 4   useful              int64  \n",
            " 5   funny               int64  \n",
            " 6   cool                int64  \n",
            " 7   elite               object \n",
            " 8   friends             object \n",
            " 9   fans                int64  \n",
            " 10  average_stars       float64\n",
            " 11  compliment_hot      int64  \n",
            " 12  compliment_more     int64  \n",
            " 13  compliment_profile  int64  \n",
            " 14  compliment_cute     int64  \n",
            " 15  compliment_list     int64  \n",
            " 16  compliment_note     int64  \n",
            " 17  compliment_plain    int64  \n",
            " 18  compliment_cool     int64  \n",
            " 19  compliment_funny    int64  \n",
            " 20  compliment_writer   int64  \n",
            " 21  compliment_photos   int64  \n",
            "dtypes: float64(1), int64(16), object(5)\n",
            "memory usage: 353.4+ MB\n"
          ]
        }
      ]
    },
    {
      "cell_type": "code",
      "source": [
        "yelp_user.duplicated().sum()"
      ],
      "metadata": {
        "colab": {
          "base_uri": "https://localhost:8080/"
        },
        "id": "Cwutw0BqfJ1Y",
        "outputId": "174721fa-c77a-4b5a-d113-3ff35a237ddd"
      },
      "execution_count": 34,
      "outputs": [
        {
          "output_type": "execute_result",
          "data": {
            "text/plain": [
              "117700"
            ]
          },
          "metadata": {},
          "execution_count": 34
        }
      ]
    }
  ]
}