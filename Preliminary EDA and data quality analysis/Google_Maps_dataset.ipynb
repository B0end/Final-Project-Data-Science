{
  "nbformat": 4,
  "nbformat_minor": 0,
  "metadata": {
    "colab": {
      "provenance": []
    },
    "kernelspec": {
      "name": "python3",
      "display_name": "Python 3"
    },
    "language_info": {
      "name": "python"
    }
  },
  "cells": [
    {
      "cell_type": "code",
      "source": [
        "# Install this (run the cell):\n",
        "# !apt-get install openjdk-8-jdk-headless -qq\n",
        "# !pip install pyspark"
      ],
      "metadata": {
        "id": "sXt1iqaH_FhS"
      },
      "execution_count": 3,
      "outputs": []
    },
    {
      "cell_type": "markdown",
      "source": [
        "First make sure of having a copy of the data in your own drive so, for example, \"/content/drive/MyDrive/Google-Maps\" path can work."
      ],
      "metadata": {
        "id": "T5gHZWNufDPe"
      }
    },
    {
      "cell_type": "code",
      "execution_count": 4,
      "metadata": {
        "colab": {
          "base_uri": "https://localhost:8080/"
        },
        "id": "loItuuHl-pXr",
        "outputId": "fa7a8853-454d-4d6e-ec13-ee7c1d2459df"
      },
      "outputs": [
        {
          "output_type": "stream",
          "name": "stdout",
          "text": [
            "Mounted at /content/drive\n"
          ]
        }
      ],
      "source": [
        "# Give access to your Drive:\n",
        "from google.colab import drive\n",
        "drive.mount('/content/drive')"
      ]
    },
    {
      "cell_type": "code",
      "source": [
        "import pandas as pd\n",
        "from pyspark.sql import SparkSession\n",
        "from pyspark.sql.functions import lit\n",
        "from pyspark.sql.functions import col, sum, count\n",
        "from pyspark.sql.functions import input_file_name, regexp_extract\n",
        "import matplotlib.pyplot as plt\n",
        "import seaborn as sns\n",
        "import re"
      ],
      "metadata": {
        "id": "ldX324NCoNXj"
      },
      "execution_count": 35,
      "outputs": []
    },
    {
      "cell_type": "markdown",
      "source": [
        "# metadata-sitios\n",
        "Observations:\n",
        "- There are 3.025.011 rows and 15 columns.\n",
        "- Number of nulls:\n",
        "  - \"MISC\": 690.834\n",
        "  - \"address\": 80.511\n",
        "  - \"category\": 17.419\n",
        "  - \"description\": 2.770.722\n",
        "  - \"hours\": 787.405\n",
        "  - \"name\": 37\n",
        "  - \"price\": 2.749.808\n",
        "  - \"relative_results\": 295.058\n",
        "  - \"state\": 746.455\n",
        "- Seems to be 26.573 duplicates"
      ],
      "metadata": {
        "id": "y4lSwJkvnp1T"
      }
    },
    {
      "cell_type": "code",
      "source": [
        "json_files = [\n",
        "    '/content/drive/MyDrive/Google Maps/metadata-sitios/1.json',\n",
        "    '/content/drive/MyDrive/Google Maps/metadata-sitios/2.json',\n",
        "    '/content/drive/MyDrive/Google Maps/metadata-sitios/3.json',\n",
        "    '/content/drive/MyDrive/Google Maps/metadata-sitios/4.json',\n",
        "    '/content/drive/MyDrive/Google Maps/metadata-sitios/5.json',\n",
        "    '/content/drive/MyDrive/Google Maps/metadata-sitios/6.json',\n",
        "    '/content/drive/MyDrive/Google Maps/metadata-sitios/7.json',\n",
        "    '/content/drive/MyDrive/Google Maps/metadata-sitios/8.json',\n",
        "    '/content/drive/MyDrive/Google Maps/metadata-sitios/9.json',\n",
        "    '/content/drive/MyDrive/Google Maps/metadata-sitios/10.json',\n",
        "    '/content/drive/MyDrive/Google Maps/metadata-sitios/11.json'\n",
        "]\n",
        "\n",
        "# Create a SparkSession\n",
        "spark = SparkSession.builder.getOrCreate()\n",
        "\n",
        "# Read the JSON files into Spark DataFrames\n",
        "gmaps_metadata = spark.read.json(json_files)"
      ],
      "metadata": {
        "id": "oTdABrUpKXRY"
      },
      "execution_count": 6,
      "outputs": []
    },
    {
      "cell_type": "code",
      "source": [
        "# To get the shape (number of rows and columns) of the DataFrame:\n",
        "rows, columns = (gmaps_metadata.count(), len(gmaps_metadata.columns))\n",
        "f'There are {rows} rows and {columns} columns.'"
      ],
      "metadata": {
        "colab": {
          "base_uri": "https://localhost:8080/",
          "height": 35
        },
        "id": "vdGEj6MNWZWe",
        "outputId": "f708ca9a-d47f-4a03-bb7c-4f98a32f5a21"
      },
      "execution_count": 7,
      "outputs": [
        {
          "output_type": "execute_result",
          "data": {
            "text/plain": [
              "'There are 3025011 rows and 15 columns.'"
            ],
            "application/vnd.google.colaboratory.intrinsic+json": {
              "type": "string"
            }
          },
          "metadata": {},
          "execution_count": 7
        }
      ]
    },
    {
      "cell_type": "code",
      "source": [
        "# View the first few rows of the DataFrame:\n",
        "gmaps_metadata.show()"
      ],
      "metadata": {
        "colab": {
          "base_uri": "https://localhost:8080/"
        },
        "id": "MbancFc3IXYJ",
        "outputId": "8530affc-3bc3-4391-ce34-c42d3dc59519"
      },
      "execution_count": 8,
      "outputs": [
        {
          "output_type": "stream",
          "name": "stdout",
          "text": [
            "+--------------------+--------------------+----------+--------------------+--------------------+--------------------+--------------------+------------------+-------------------+--------------------+--------------+-----+--------------------+--------------------+--------------------+\n",
            "|                MISC|             address|avg_rating|            category|         description|             gmap_id|               hours|          latitude|          longitude|                name|num_of_reviews|price|    relative_results|               state|                 url|\n",
            "+--------------------+--------------------+----------+--------------------+--------------------+--------------------+--------------------+------------------+-------------------+--------------------+--------------+-----+--------------------+--------------------+--------------------+\n",
            "|{[Wheelchair acce...|Porter Pharmacy, ...|       4.9|          [Pharmacy]|                null|0x88f16e41928ff68...|[[Friday, 8AM–6PM...|           32.3883|           -83.3571|     Porter Pharmacy|            16| null|[0x88f16e41929435...|   Open ⋅ Closes 6PM|https://www.googl...|\n",
            "|                null|City Textile, 300...|       4.5|  [Textile exporter]|                null|0x80c2c98c0e3c16f...|                null|        34.0188913|       -118.2152898|        City Textile|             6| null|[0x80c2c624136ea8...|            Open now|https://www.googl...|\n",
            "|{[Wheelchair acce...|San Soo Dang, 761...|       4.4| [Korean restaurant]|                null|0x80c2c778e3b73d3...|[[Thursday, 6:30A...|        34.0580917|       -118.2921295|        San Soo Dang|            18| null|[0x80c2c78249aba6...|   Open ⋅ Closes 6PM|https://www.googl...|\n",
            "|{null, null, null...|Nova Fabrics, 220...|       3.3|      [Fabric store]|                null|0x80c2c89923b27a4...|[[Thursday, 9AM–5...|        34.0236689|       -118.2329297|        Nova Fabrics|             6| null|[0x80c2c881147725...|   Open ⋅ Closes 5PM|https://www.googl...|\n",
            "|{null, null, null...|Nobel Textile Co,...|       4.3|      [Fabric store]|                null|0x80c2c632f933b07...|[[Thursday, 9AM–5...|        34.0366942|       -118.2494208|    Nobel Textile Co|             7| null|[0x80c2c62c496083...|   Open ⋅ Closes 5PM|https://www.googl...|\n",
            "|{[Wheelchair acce...|Matrix Internatio...|       3.5|      [Fabric store]|                null|0x80c2cf163db6bc8...|[[Thursday, 8:30A...|        34.0155047|       -118.1818394|Matrix Internatio...|             6| null|[0x80c2cf042a5d95...|Open ⋅ Closes 5:30PM|https://www.googl...|\n",
            "|{[Wheelchair acce...|Vons Chicken, 127...|       4.5|        [Restaurant]|                null|0x80dd2b4c8555edb...|[[Thursday, 11AM–...|        33.9164023|-118.01085499999999|        Vons Chicken|            18| null|                null|Open ⋅ Closes 9:30PM|https://www.googl...|\n",
            "|{[Wheelchair acce...|Polished Nail Sal...|       4.0|[Nail salon, Waxi...|                null|0x87ec238afdd8837...|[[Thursday, 9AM–8...|41.614197999999995|        -93.8472695|Polished Nail Sal...|            86| null|[0x87ec2481df68e1...|   Open ⋅ Closes 8PM|https://www.googl...|\n",
            "|{null, null, null...|Sweet Rewards Glu...|       4.7|[Bakery, Health f...|                null|0x87ec235c54d25b3...|[[Thursday, 10AM–...|         41.616079|         -93.865487|Sweet Rewards Glu...|            21| null|[0x87ee9748692955...|  Permanently closed|https://www.googl...|\n",
            "|                null|                null|       5.0|[Greeting card sh...|                null|0x87ee85ac3cb23b4...|[[Thursday, 7AM–8...|         41.846035|        -93.7561175|           PeepNotes|             1| null|[0x87ee915d9604ea...|   Open ⋅ Closes 8PM|https://www.googl...|\n",
            "|{[Wheelchair acce...|Lush Family Denta...|       5.0|[Dentist, Cosmeti...|                null|0x87ec2394c2cd9d2...|[[Thursday, 7AM–4...|        41.5852916|        -93.8551126|  Lush Family Dental|           178| null|[0x87ec2482098b66...|   Open ⋅ Closes 4PM|https://www.googl...|\n",
            "|{[Wheelchair acce...|515 Auto Shades, ...|       5.0|[Auto glass shop,...|                null|0x87ee95d1e474531...|[[Thursday, 9AM–6...|         41.606082|        -93.4986302|     515 Auto Shades|            28| null|                null|   Open ⋅ Closes 6PM|https://www.googl...|\n",
            "|{[Wheelchair acce...|Lena’s Beauty Nai...|       4.2|      [Beauty salon]|                null|0x87ec2481df6626b...|[[Thursday, 9AM–7...|        41.6163101|         -93.858345|Lena’s Beauty Nai...|           128| null|[0x87ec20ce836cac...|   Open ⋅ Closes 7PM|https://www.googl...|\n",
            "|{[Wheelchair acce...|Black Tie Ski Ren...|       5.0|[Ski rental servi...|                null|0x80960c29f2e3bf2...|[[Thursday, 8AM–5...|37.638754399999996|-118.96605509999999|Black Tie Ski Ren...|            34| null|[0x80960dcd6ba767...|   Open ⋅ Closes 5PM|https://www.googl...|\n",
            "|{[Wheelchair acce...|NTK OUTDOOR, 2315...|       5.0|  [Corporate office]|                null|0x88d9beb4fe0532c...|[[Thursday, 9AM–6...|        25.7952041|        -80.3660381|         NTK OUTDOOR|            35| null|[0x88d9bfd49a624c...|   Open ⋅ Closes 6PM|https://www.googl...|\n",
            "|                null|Angel-A Massage, ...|       4.3|[Massage spa, Chi...|                null|0x809adef58ae560b...|[[Thursday, 9:30A...|        38.6626297|       -121.3086388|     Angel-A Massage|             6| null|[0x809adee9ac6f1b...|Open ⋅ Closes 9:30PM|https://www.googl...|\n",
            "|{[Wheelchair acce...|Dunn-Edwards Pain...|       4.7|[Paint store, Pai...|Chain selling int...|0x809b1ff6d3a60c4...|[[Thursday, 6:30A...|        38.7434619|       -121.2587612| Dunn-Edwards Paints|            26| null|[0x809b201630f908...|   Open ⋅ Closes 5PM|https://www.googl...|\n",
            "|                null|Elite Massage, 81...|       5.0| [Massage therapist]|                null|0x809ae0a7ce91433...|                null|        38.6649155|       -121.2601916|       Elite Massage|             1| null|[0x809ade27605def...|                null|https://www.googl...|\n",
            "|{[Wheelchair acce...|PODS Sacramento H...|       4.0|  [Corporate office]|                null|0x809ad95924805cf...|                null|         38.658994|       -121.4129579| PODS Sacramento Hub|             8| null|[0x809ad8fc85a035...|            Open now|https://www.googl...|\n",
            "|{[Wheelchair acce...|Happy Spa & Massa...|       2.7|[Massage therapis...|                null|0x809b217a6cbe4fa...|[[Thursday, 9:30A...|        38.7855482|       -121.2868859|Happy Spa & Massa...|             8| null|[0x809b20410d8df0...|  Open ⋅ Closes 10PM|https://www.googl...|\n",
            "+--------------------+--------------------+----------+--------------------+--------------------+--------------------+--------------------+------------------+-------------------+--------------------+--------------+-----+--------------------+--------------------+--------------------+\n",
            "only showing top 20 rows\n",
            "\n"
          ]
        }
      ]
    },
    {
      "cell_type": "code",
      "source": [
        "# Retrieve the column names:\n",
        "gmaps_metadata.columns\n"
      ],
      "metadata": {
        "colab": {
          "base_uri": "https://localhost:8080/"
        },
        "id": "rO0gWZ1GWPer",
        "outputId": "d37f2e1d-e94e-46ac-e615-f87af463071f"
      },
      "execution_count": 9,
      "outputs": [
        {
          "output_type": "execute_result",
          "data": {
            "text/plain": [
              "['MISC',\n",
              " 'address',\n",
              " 'avg_rating',\n",
              " 'category',\n",
              " 'description',\n",
              " 'gmap_id',\n",
              " 'hours',\n",
              " 'latitude',\n",
              " 'longitude',\n",
              " 'name',\n",
              " 'num_of_reviews',\n",
              " 'price',\n",
              " 'relative_results',\n",
              " 'state',\n",
              " 'url']"
            ]
          },
          "metadata": {},
          "execution_count": 9
        }
      ]
    },
    {
      "cell_type": "code",
      "source": [
        "# To get information about the DataFrame, including column data types and null counts:\n",
        "gmaps_metadata.printSchema()"
      ],
      "metadata": {
        "colab": {
          "base_uri": "https://localhost:8080/"
        },
        "id": "Q8hxXV79W5Ll",
        "outputId": "2f042bcd-7e27-4198-d4f6-8109f84053bc"
      },
      "execution_count": 10,
      "outputs": [
        {
          "output_type": "stream",
          "name": "stdout",
          "text": [
            "root\n",
            " |-- MISC: struct (nullable = true)\n",
            " |    |-- Accessibility: array (nullable = true)\n",
            " |    |    |-- element: string (containsNull = true)\n",
            " |    |-- Activities: array (nullable = true)\n",
            " |    |    |-- element: string (containsNull = true)\n",
            " |    |-- Amenities: array (nullable = true)\n",
            " |    |    |-- element: string (containsNull = true)\n",
            " |    |-- Atmosphere: array (nullable = true)\n",
            " |    |    |-- element: string (containsNull = true)\n",
            " |    |-- Crowd: array (nullable = true)\n",
            " |    |    |-- element: string (containsNull = true)\n",
            " |    |-- Dining options: array (nullable = true)\n",
            " |    |    |-- element: string (containsNull = true)\n",
            " |    |-- From the business: array (nullable = true)\n",
            " |    |    |-- element: string (containsNull = true)\n",
            " |    |-- Getting here: array (nullable = true)\n",
            " |    |    |-- element: string (containsNull = true)\n",
            " |    |-- Health & safety: array (nullable = true)\n",
            " |    |    |-- element: string (containsNull = true)\n",
            " |    |-- Health and safety: array (nullable = true)\n",
            " |    |    |-- element: string (containsNull = true)\n",
            " |    |-- Highlights: array (nullable = true)\n",
            " |    |    |-- element: string (containsNull = true)\n",
            " |    |-- Lodging options: array (nullable = true)\n",
            " |    |    |-- element: string (containsNull = true)\n",
            " |    |-- Offerings: array (nullable = true)\n",
            " |    |    |-- element: string (containsNull = true)\n",
            " |    |-- Payments: array (nullable = true)\n",
            " |    |    |-- element: string (containsNull = true)\n",
            " |    |-- Planning: array (nullable = true)\n",
            " |    |    |-- element: string (containsNull = true)\n",
            " |    |-- Popular for: array (nullable = true)\n",
            " |    |    |-- element: string (containsNull = true)\n",
            " |    |-- Recycling: array (nullable = true)\n",
            " |    |    |-- element: string (containsNull = true)\n",
            " |    |-- Service options: array (nullable = true)\n",
            " |    |    |-- element: string (containsNull = true)\n",
            " |-- address: string (nullable = true)\n",
            " |-- avg_rating: double (nullable = true)\n",
            " |-- category: array (nullable = true)\n",
            " |    |-- element: string (containsNull = true)\n",
            " |-- description: string (nullable = true)\n",
            " |-- gmap_id: string (nullable = true)\n",
            " |-- hours: array (nullable = true)\n",
            " |    |-- element: array (containsNull = true)\n",
            " |    |    |-- element: string (containsNull = true)\n",
            " |-- latitude: double (nullable = true)\n",
            " |-- longitude: double (nullable = true)\n",
            " |-- name: string (nullable = true)\n",
            " |-- num_of_reviews: long (nullable = true)\n",
            " |-- price: string (nullable = true)\n",
            " |-- relative_results: array (nullable = true)\n",
            " |    |-- element: string (containsNull = true)\n",
            " |-- state: string (nullable = true)\n",
            " |-- url: string (nullable = true)\n",
            "\n"
          ]
        }
      ]
    },
    {
      "cell_type": "markdown",
      "source": [
        "## Null values analysis"
      ],
      "metadata": {
        "id": "d28_nSvwVX-g"
      }
    },
    {
      "cell_type": "code",
      "source": [
        "# To count the number of null values in each column:\n",
        "gmaps_metadata.select([sum(col(c).isNull().cast(\"int\")).alias(c) for c in gmaps_metadata.columns]).show()"
      ],
      "metadata": {
        "colab": {
          "base_uri": "https://localhost:8080/"
        },
        "id": "jINkVIbrXMcm",
        "outputId": "918b92dc-2cf9-4434-a923-5df6fa6c622b"
      },
      "execution_count": 11,
      "outputs": [
        {
          "output_type": "stream",
          "name": "stdout",
          "text": [
            "+------+-------+----------+--------+-----------+-------+------+--------+---------+----+--------------+-------+----------------+------+---+\n",
            "|  MISC|address|avg_rating|category|description|gmap_id| hours|latitude|longitude|name|num_of_reviews|  price|relative_results| state|url|\n",
            "+------+-------+----------+--------+-----------+-------+------+--------+---------+----+--------------+-------+----------------+------+---+\n",
            "|690834|  80511|         0|   17419|    2770722|      0|787405|       0|        0|  37|             0|2749808|          295058|746455|  0|\n",
            "+------+-------+----------+--------+-----------+-------+------+--------+---------+----+--------------+-------+----------------+------+---+\n",
            "\n"
          ]
        }
      ]
    },
    {
      "cell_type": "code",
      "source": [
        "# Store the null value counts in a list\n",
        "null_counts = gmaps_metadata.select([sum(col(c).isNull().cast(\"int\")).alias(c) for c in gmaps_metadata.columns]).collect()[0]\n",
        "\n",
        "# Get the column names\n",
        "column_names = gmaps_metadata.columns\n",
        "\n",
        "# Calculate the total number of rows\n",
        "total_rows = gmaps_metadata.count()\n",
        "\n",
        "# Calculate null percentages for columns with more than zero nulls\n",
        "null_percentages = [(column_name, null_count/total_rows * 100) for column_name, null_count in zip(column_names, null_counts) if null_count > 0]\n",
        "\n",
        "# Unzip the column names and percentages\n",
        "column_names, percentages = zip(*null_percentages)\n",
        "\n",
        "# Create a bar plot\n",
        "plt.figure(figsize=(12, 6))\n",
        "plt.bar(column_names, percentages)\n",
        "\n",
        "# Add labels and title\n",
        "plt.xlabel('Columns')\n",
        "plt.ylabel('Null Percentage')\n",
        "plt.title('Null Value Percentages by Column')\n",
        "\n",
        "# Rotate x-axis labels for better visibility\n",
        "plt.xticks(rotation=45, ha='right')\n",
        "\n",
        "# Display the plot\n",
        "plt.tight_layout()\n",
        "plt.show()"
      ],
      "metadata": {
        "colab": {
          "base_uri": "https://localhost:8080/",
          "height": 607
        },
        "id": "gDEN6w-UM89k",
        "outputId": "c539c5e8-94b2-4af5-e6dd-7468452dba4d"
      },
      "execution_count": 23,
      "outputs": [
        {
          "output_type": "display_data",
          "data": {
            "text/plain": [
              "<Figure size 1200x600 with 1 Axes>"
            ],
            "image/png": "[encoded data removed]"
          },
          "metadata": {}
        }
      ]
    },
    {
      "cell_type": "code",
      "source": [
        "# To count the number of duplicated rows in the DataFrame:\n",
        "gmaps_metadata.groupBy(gmaps_metadata.columns).count().filter(\"count > 1\").count()"
      ],
      "metadata": {
        "colab": {
          "base_uri": "https://localhost:8080/"
        },
        "id": "gLlzgXvMXPm0",
        "outputId": "41a59a68-31d5-410b-f39f-fe2a493f3c5f"
      },
      "execution_count": 12,
      "outputs": [
        {
          "output_type": "execute_result",
          "data": {
            "text/plain": [
              "26573"
            ]
          },
          "metadata": {},
          "execution_count": 12
        }
      ]
    },
    {
      "cell_type": "code",
      "source": [
        "# Count the total number of duplicates taking \"gmap_id\" column\n",
        "total_duplicates = gmaps_metadata.groupBy(\"gmap_id\").count().filter(col(\"count\") > 1).count()\n",
        "\n",
        "# Print the total count of duplicates\n",
        "print(\"Total duplicates: \", total_duplicates)"
      ],
      "metadata": {
        "colab": {
          "base_uri": "https://localhost:8080/"
        },
        "id": "1uTGWlSPzUs4",
        "outputId": "e5f8895b-a471-47a2-9633-a4ff77c00ebc"
      },
      "execution_count": 40,
      "outputs": [
        {
          "output_type": "stream",
          "name": "stdout",
          "text": [
            "Total duplicates:  26573\n"
          ]
        }
      ]
    },
    {
      "cell_type": "markdown",
      "source": [
        "## Outliers in number of reviews"
      ],
      "metadata": {
        "id": "cZZNsM6BvUgL"
      }
    },
    {
      "cell_type": "code",
      "source": [
        "# Select the \"num_of_reviews\" column\n",
        "num_of_reviews_col = \"num_of_reviews\"  # Replace with the actual column name for num_of_reviews\n",
        "\n",
        "# Convert the column to numeric type\n",
        "df = gmaps_metadata.withColumn(num_of_reviews_col, col(num_of_reviews_col).cast(\"double\"))\n",
        "\n",
        "# Calculate the quartiles and IQR for outlier detection\n",
        "quartiles = df.approxQuantile(num_of_reviews_col, [0.25, 0.5, 0.75], 0.01)\n",
        "q1 = quartiles[0]\n",
        "q3 = quartiles[2]\n",
        "iqr = q3 - q1\n",
        "\n",
        "# Define the lower and upper bounds for outlier detection\n",
        "lower_bound = q1 - 1.5 * iqr\n",
        "upper_bound = q3 + 1.5 * iqr\n",
        "\n",
        "# Filter the DataFrame to keep rows within the bounds\n",
        "filtered_df = df.filter((col(num_of_reviews_col) >= lower_bound) & (col(num_of_reviews_col) <= upper_bound))\n",
        "\n",
        "# Convert the filtered DataFrame to Pandas for plotting\n",
        "pandas_df = filtered_df.select(num_of_reviews_col).toPandas()\n",
        "\n",
        "# Plot a box plot to visualize the distribution and outliers\n",
        "plt.figure(figsize=(8, 6))\n",
        "sns.boxplot(data=pandas_df, y=num_of_reviews_col)\n",
        "plt.ylabel(\"Number of Reviews\")\n",
        "plt.title(\"Box Plot of Number of Reviews\")\n",
        "plt.show()"
      ],
      "metadata": {
        "colab": {
          "base_uri": "https://localhost:8080/",
          "height": 526
        },
        "id": "e-bi6EuZknhC",
        "outputId": "ac1de0f3-fa66-47f6-ae49-756fd11320bf"
      },
      "execution_count": 36,
      "outputs": [
        {
          "output_type": "display_data",
          "data": {
            "text/plain": [
              "<Figure size 800x600 with 1 Axes>"
            ],
            "image/png": "[encoded data removed]"
          },
          "metadata": {}
        }
      ]
    },
    {
      "cell_type": "code",
      "source": [
        "# Extract the \"avg_rating\" column from the Spark DataFrame\n",
        "avg_ratings_data = gmaps_metadata.select(\"avg_rating\").rdd.flatMap(lambda x: x).collect()\n",
        "\n",
        "# Create the horizontal box plot\n",
        "plt.figure(figsize=(8, 6))\n",
        "plt.boxplot(avg_ratings_data, vert=False)\n",
        "\n",
        "# Set labels and title\n",
        "plt.xlabel(\"Average Rating\")\n",
        "plt.ylabel(\"\")\n",
        "\n",
        "plt.title(\"Distribution of Average Ratings\")\n",
        "\n",
        "# Show the plot\n",
        "plt.show()"
      ],
      "metadata": {
        "colab": {
          "base_uri": "https://localhost:8080/",
          "height": 564
        },
        "id": "bOuOZJqAwtUm",
        "outputId": "f6b249d4-5f25-4ac8-d480-7c2c20a2a321"
      },
      "execution_count": 37,
      "outputs": [
        {
          "output_type": "display_data",
          "data": {
            "text/plain": [
              "<Figure size 800x600 with 1 Axes>"
            ],
            "image/png": "[encoded data removed]"
          },
          "metadata": {}
        }
      ]
    },
    {
      "cell_type": "markdown",
      "source": [
        "# reviews-estados\n",
        "Observations:\n",
        "- There are 89.946.359 rows and 9 columns.\n",
        "- There are nulls in columns: \n",
        "  - \"pics\" (87.450.680)\n",
        "  - \"resp\" (78.917.249)\n",
        "  - \"text\" (39.307.744)\n",
        "- Seems to be 1.386.843 duplicates"
      ],
      "metadata": {
        "id": "xk9v_IYbjrmY"
      }
    },
    {
      "cell_type": "code",
      "source": [
        "# Create a SparkSession\n",
        "spark = SparkSession.builder.getOrCreate()\n",
        "# Specify the parent directory containing state directories\n",
        "parent_directory = '/content/drive/MyDrive/Google Maps/reviews-estados/'\n",
        "# Read the JSON files into Spark DataFrames and extract state from directory structure\n",
        "gmaps_reviews = spark.read.json(parent_directory + \"*/*.json\") \\\n",
        "    .withColumn(\"state\", regexp_extract(input_file_name(), r\".*/([^/]+)/[^/]+\\.json\", 1))"
      ],
      "metadata": {
        "id": "rmQ8mUU_hoAp"
      },
      "execution_count": 13,
      "outputs": []
    },
    {
      "cell_type": "code",
      "source": [
        "# Show the DataFrame\n",
        "gmaps_reviews.show()"
      ],
      "metadata": {
        "id": "xX6sCjeFWZfI",
        "colab": {
          "base_uri": "https://localhost:8080/"
        },
        "outputId": "44ac81aa-616c-461f-c9e4-13a10fca6634"
      },
      "execution_count": 14,
      "outputs": [
        {
          "output_type": "stream",
          "name": "stdout",
          "text": [
            "+--------------------+--------------------+----+------+--------------------+--------------------+-------------+--------------------+-----------+\n",
            "|             gmap_id|                name|pics|rating|                resp|                text|         time|             user_id|      state|\n",
            "+--------------------+--------------------+----+------+--------------------+--------------------+-------------+--------------------+-----------+\n",
            "|0x87528767d0ec0e4...|          Liz W Poch|null|     5|                null|Paige is the best...|1627085008811|11118259507767436...|review-Utah|\n",
            "|0x87528767d0ec0e4...|    Mario D'Ambrosio|null|     1|                null|I have updated my...|1626437133578|11768917084644824...|review-Utah|\n",
            "|0x87528767d0ec0e4...|     Kathleen Hambly|null|     5|                null|Simone is the bes...|1585165423975|11583468565499948...|review-Utah|\n",
            "|0x87528767d0ec0e4...|       Crystal Olsen|null|     1|                null|Ive called severa...|1591629458998|11267961121373171...|review-Utah|\n",
            "|0x87528767d0ec0e4...|        Sarah Jensen|null|     5|{Thank you for yo...|My fiance and I h...|1510264647735|10859942935026242...|review-Utah|\n",
            "|0x87528767d0ec0e4...|      Kevin Harkness|null|     1|                null|***AVOID AT ALL C...|1586466721071|10560043270943268...|review-Utah|\n",
            "|0x87528767d0ec0e4...|        Rachel Steed|null|     5|{Thank you for th...|Friendly, compreh...|1521500842073|10715545901367025...|review-Utah|\n",
            "|0x87528767d0ec0e4...|        Molly Aguayo|null|     5|{That is great to...|I have been a mem...|1476832631643|10780357985096860...|review-Utah|\n",
            "|0x87528767d0ec0e4...|          Bryce Wood|null|     1|{Hello Bryce,\\n\\n...|Only been to this...|1548262636812|10383283792486643...|review-Utah|\n",
            "|0x87528767d0ec0e4...|        Haley Savage|null|     1|{Hello Haley!\\nWe...|The worst banking...|1540833248558|10030757463585499...|review-Utah|\n",
            "|0x87528767d0ec0e4...|        Bree Ballard|null|     1|{Hello Bree!\\nWe ...|Beware of this cr...|1539788413331|11015713112435134...|review-Utah|\n",
            "|0x87528767d0ec0e4...|         Amanda Tapp|null|     5|{We are glad to h...|Extremely easy to...|1501002398116|11642798096743333...|review-Utah|\n",
            "|0x87528767d0ec0e4...|     Rachelle Warren|null|     5|{Thank you for th...|         Great staff|1509379579000|10958079843007881...|review-Utah|\n",
            "|0x87528767d0ec0e4...|         Canniba11er|null|     5|{Thank you! We ar...|                null|1521171743860|11160017868069014...|review-Utah|\n",
            "|0x87528767d0ec0e4...|          Jerad Peck|null|     5|                null|                null|1620878494726|10723953962572222...|review-Utah|\n",
            "|0x87528767d0ec0e4...|         Yunjun Jung|null|     5|{Thank you for th...|                null|1583767468841|10899050447532950...|review-Utah|\n",
            "|0x8752886f10e79bb...|        Katie Flores|null|     4|                null|We have used Gran...|1611503587245|11208727887809740...|review-Utah|\n",
            "|0x8752886f10e79bb...|   Sam “Bsiz90” Poto|null|     5|                null|The overall compa...|1507051724830|10201804675050498...|review-Utah|\n",
            "|0x8752886f10e79bb...|     Chandler Morris|null|     5|{Thank you for yo...|Amber was very ki...|1578340244992|10748027699887407...|review-Utah|\n",
            "|0x8752886f10e79bb...|Junetta Ortega-Ba...|null|     5|                null|Love banking with...|1506088835346|10098503600570408...|review-Utah|\n",
            "+--------------------+--------------------+----+------+--------------------+--------------------+-------------+--------------------+-----------+\n",
            "only showing top 20 rows\n",
            "\n"
          ]
        }
      ]
    },
    {
      "cell_type": "code",
      "source": [
        "# Get the shape (number of rows and columns) of the DataFrame:\n",
        "rows, columns = (gmaps_reviews.count(), len(gmaps_reviews.columns))\n",
        "f'There are {rows} rows and {columns} columns.'"
      ],
      "metadata": {
        "colab": {
          "base_uri": "https://localhost:8080/",
          "height": 35
        },
        "id": "XulM0AAGlSDG",
        "outputId": "f14200ae-96a3-4b12-c8e7-2ea1c6696e9e"
      },
      "execution_count": 15,
      "outputs": [
        {
          "output_type": "execute_result",
          "data": {
            "text/plain": [
              "'There are 89946359 rows and 9 columns.'"
            ],
            "application/vnd.google.colaboratory.intrinsic+json": {
              "type": "string"
            }
          },
          "metadata": {},
          "execution_count": 15
        }
      ]
    },
    {
      "cell_type": "code",
      "source": [
        "# To get information about the DataFrame, including column data types and null counts:\n",
        "gmaps_reviews.printSchema()"
      ],
      "metadata": {
        "colab": {
          "base_uri": "https://localhost:8080/"
        },
        "id": "ul3RAbolpDl1",
        "outputId": "89c77711-fbd9-43c3-e099-79e85d067e3d"
      },
      "execution_count": 16,
      "outputs": [
        {
          "output_type": "stream",
          "name": "stdout",
          "text": [
            "root\n",
            " |-- gmap_id: string (nullable = true)\n",
            " |-- name: string (nullable = true)\n",
            " |-- pics: array (nullable = true)\n",
            " |    |-- element: struct (containsNull = true)\n",
            " |    |    |-- url: array (nullable = true)\n",
            " |    |    |    |-- element: string (containsNull = true)\n",
            " |-- rating: long (nullable = true)\n",
            " |-- resp: struct (nullable = true)\n",
            " |    |-- text: string (nullable = true)\n",
            " |    |-- time: long (nullable = true)\n",
            " |-- text: string (nullable = true)\n",
            " |-- time: long (nullable = true)\n",
            " |-- user_id: string (nullable = true)\n",
            " |-- state: string (nullable = false)\n",
            "\n"
          ]
        }
      ]
    },
    {
      "cell_type": "code",
      "source": [
        "# To count the number of null values in each column:\n",
        "gmaps_reviews.select([sum(col(c).isNull().cast(\"int\")).alias(c) for c in gmaps_reviews.columns]).show()"
      ],
      "metadata": {
        "colab": {
          "base_uri": "https://localhost:8080/"
        },
        "id": "i2LgKxqspJrd",
        "outputId": "f7af068d-b9ed-40c1-aa75-f1f7b40e50fe"
      },
      "execution_count": 17,
      "outputs": [
        {
          "output_type": "stream",
          "name": "stdout",
          "text": [
            "+-------+----+--------+------+--------+--------+----+-------+-----+\n",
            "|gmap_id|name|    pics|rating|    resp|    text|time|user_id|state|\n",
            "+-------+----+--------+------+--------+--------+----+-------+-----+\n",
            "|      0|   0|87450680|     0|78917249|39307744|   0|      0|    0|\n",
            "+-------+----+--------+------+--------+--------+----+-------+-----+\n",
            "\n"
          ]
        }
      ]
    },
    {
      "cell_type": "code",
      "source": [
        "# Store the null value counts in a list\n",
        "null_counts = gmaps_reviews.select([sum(col(c).isNull().cast(\"int\")).alias(c) for c in gmaps_reviews.columns]).collect()[0]\n",
        "\n",
        "# Get the column names\n",
        "column_names = gmaps_reviews.columns\n",
        "\n",
        "# Calculate the total number of rows\n",
        "total_rows = gmaps_reviews.count()\n",
        "\n",
        "# Calculate null percentages for columns with more than zero nulls\n",
        "null_percentages = [(column_name, null_count/total_rows * 100) for column_name, null_count in zip(column_names, null_counts) if null_count > 0]\n",
        "\n",
        "# Unzip the column names and percentages\n",
        "column_names, percentages = zip(*null_percentages)\n",
        "\n",
        "# Create a bar plot\n",
        "plt.figure(figsize=(12, 6))\n",
        "plt.bar(column_names, percentages)\n",
        "\n",
        "# Add labels and title\n",
        "plt.xlabel('Columns')\n",
        "plt.ylabel('Null Percentage')\n",
        "plt.title('Null Value Percentages by Column (Columns with more than zero nulls)')\n",
        "\n",
        "# Rotate x-axis labels for better visibility\n",
        "plt.xticks(rotation=45, ha='right')\n",
        "\n",
        "# Display the plot\n",
        "plt.tight_layout()\n",
        "plt.show()"
      ],
      "metadata": {
        "colab": {
          "base_uri": "https://localhost:8080/",
          "height": 607
        },
        "id": "mT1rlJJvWAAd",
        "outputId": "d579d389-6c8c-4955-efde-cf4d73fcccdd"
      },
      "execution_count": 24,
      "outputs": [
        {
          "output_type": "display_data",
          "data": {
            "text/plain": [
              "<Figure size 1200x600 with 1 Axes>"
            ],
            "image/png": "[encoded data removed]"
          },
          "metadata": {}
        }
      ]
    },
    {
      "cell_type": "code",
      "source": [
        "# To count the number of duplicated rows in the DataFrame:\n",
        "gmaps_reviews.groupBy(gmaps_reviews.columns).count().filter(\"count > 1\").count()"
      ],
      "metadata": {
        "colab": {
          "base_uri": "https://localhost:8080/"
        },
        "id": "Z5Qx1v8jsnIU",
        "outputId": "5492ffa6-44b5-48da-e93d-c193cff135ea"
      },
      "execution_count": 18,
      "outputs": [
        {
          "output_type": "execute_result",
          "data": {
            "text/plain": [
              "1386843"
            ]
          },
          "metadata": {},
          "execution_count": 18
        }
      ]
    },
    {
      "cell_type": "code",
      "source": [
        "numerical_cols = ['rating']\n",
        "gmaps_reviews.select(numerical_cols).describe().show()"
      ],
      "metadata": {
        "colab": {
          "base_uri": "https://localhost:8080/"
        },
        "id": "PdR9Ce4Dzx-h",
        "outputId": "72e2f7b3-fb01-4e11-8976-919e2650ad62"
      },
      "execution_count": 19,
      "outputs": [
        {
          "output_type": "stream",
          "name": "stdout",
          "text": [
            "+-------+------------------+\n",
            "|summary|            rating|\n",
            "+-------+------------------+\n",
            "|  count|          89946359|\n",
            "|   mean|4.3019362128932865|\n",
            "| stddev|1.1007920513773455|\n",
            "|    min|                 1|\n",
            "|    max|                 5|\n",
            "+-------+------------------+\n",
            "\n"
          ]
        }
      ]
    },
    {
      "cell_type": "code",
      "source": [
        "def check_coordinate_inconsistencies(df):\n",
        "    latitude_col = \"latitude\"  # Replace with the actual column name for latitude\n",
        "    longitude_col = \"longitude\"  # Replace with the actual column name for longitude\n",
        "\n",
        "    invalid_coordinates = df.filter(\n",
        "        (col(latitude_col) < -90) | (col(latitude_col) > 90) |\n",
        "        (col(longitude_col) < -180) | (col(longitude_col) > 180)\n",
        "    )\n",
        "\n",
        "    invalid_coordinates.show()\n",
        "\n",
        "check_coordinate_inconsistencies(gmaps_metadata)"
      ],
      "metadata": {
        "colab": {
          "base_uri": "https://localhost:8080/"
        },
        "id": "Aroxc9AJd6lr",
        "outputId": "cc5ec0d7-c9b1-41d2-ee27-2fd726eab1ec"
      },
      "execution_count": 34,
      "outputs": [
        {
          "output_type": "stream",
          "name": "stdout",
          "text": [
            "+----+-------+----------+--------+-----------+-------+-----+--------+---------+----+--------------+-----+----------------+-----+---+\n",
            "|MISC|address|avg_rating|category|description|gmap_id|hours|latitude|longitude|name|num_of_reviews|price|relative_results|state|url|\n",
            "+----+-------+----------+--------+-----------+-------+-----+--------+---------+----+--------------+-----+----------------+-----+---+\n",
            "+----+-------+----------+--------+-----------+-------+-----+--------+---------+----+--------------+-----+----------------+-----+---+\n",
            "\n"
          ]
        }
      ]
    }
  ]
}