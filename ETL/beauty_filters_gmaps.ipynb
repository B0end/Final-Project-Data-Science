{
 "cells": [
  {
   "cell_type": "code",
   "execution_count": 1,
   "id": "74ed0147-8c00-488c-8239-8aeeeb5f8c3c",
   "metadata": {},
   "outputs": [],
   "source": [
    "from pyspark.sql import SparkSession\n",
    "from pyspark.sql.functions import col, udf, sum, isnull\n",
    "from pyspark.sql.types import StringType, ArrayType\n",
    "import string\n",
    "import re"
   ]
  },
  {
   "attachments": {},
   "cell_type": "markdown",
   "id": "04ffefd0-a710-4c3e-a10e-0ac712021a74",
   "metadata": {},
   "source": [
    "# Google Maps metadata"
   ]
  },
  {
   "cell_type": "code",
   "execution_count": null,
   "id": "512add4f-6716-4532-af67-d8486680bbb0",
   "metadata": {
    "collapsed": true,
    "jupyter": {
     "outputs_hidden": true
    },
    "tags": []
   },
   "outputs": [],
   "source": [
    "# Create a SparkSession\n",
    "spark = SparkSession.builder.getOrCreate()\n",
    "\n",
    "gmaps_metadata_path = \"gs://bucket123321/gmap_clean_data/metadata/part-00000-71b2933c-23b9-4dd1-a76d-cf6229105dac-c000.json\"\n",
    "# Read the JSON files into Spark DataFrames\n",
    "gmap_metadata = spark.read.json(gmaps_metadata_path)"
   ]
  },
  {
   "cell_type": "code",
   "execution_count": 3,
   "id": "e1f76a9e-4bcb-4495-be65-f3ec9f91bd9a",
   "metadata": {},
   "outputs": [],
   "source": [
    "# Drop rows with missing values in the 'address' and 'category' columns\n",
    "gmap_metadata = gmap_metadata.dropna(subset=['address', 'category'])\n",
    "\n",
    "abbreviations = [\n",
    "    'AL', 'AK', 'AZ', 'AR', 'CA', 'NC', 'SC', 'CO', 'CT', 'ND', 'SD', 'DE',\n",
    "    'FL', 'GA', 'HI', 'ID', 'IL', 'IN', 'IA', 'KS', 'KY', 'LA', 'ME', 'MD',\n",
    "    'MA', 'MI', 'MN', 'MS', 'MO', 'MT', 'NE', 'NV', 'NJ', 'NY', 'NH', 'NM',\n",
    "    'OH', 'OK', 'OR', 'PA', 'RI', 'TN', 'TX', 'UT', 'VT', 'VA', 'WV', 'WA',\n",
    "    'WI', 'WY'\n",
    "]\n",
    "\n",
    "states = {\n",
    "    'Alabama': 'AL',\n",
    "    'Alaska': 'AK',\n",
    "    'Arizona': 'AZ',\n",
    "    'Arkansas': 'AR',\n",
    "    'California': 'CA',\n",
    "    'North Carolina': 'NC',\n",
    "    'South Carolina': 'SC',\n",
    "    'Colorado': 'CO',\n",
    "    'Connecticut': 'CT',\n",
    "    'North Dakota': 'ND',\n",
    "    'South Dakota': 'SD',\n",
    "    'Delaware': 'DE',\n",
    "    'Florida': 'FL',\n",
    "    'Georgia': 'GA',\n",
    "    'Hawaii': 'HI',\n",
    "    'Idaho': 'ID',\n",
    "    'Illinois': 'IL',\n",
    "    'Indiana': 'IN',\n",
    "    'Iowa': 'IA',\n",
    "    'Kansas': 'KS',\n",
    "    'Kentucky': 'KY',\n",
    "    'Louisiana': 'LA',\n",
    "    'Maine': 'ME',\n",
    "    'Maryland': 'MD',\n",
    "    'Massachusetts': 'MA',\n",
    "    'Michigan': 'MI',\n",
    "    'Minnesota': 'MN',\n",
    "    'Mississippi': 'MS',\n",
    "    'Missouri': 'MO',\n",
    "    'Montana': 'MT',\n",
    "    'Nebraska': 'NE',\n",
    "    'Nevada': 'NV',\n",
    "    'New Jersey': 'NJ',\n",
    "    'New York': 'NY',\n",
    "    'New Hampshire': 'NH',\n",
    "    'New Mexico': 'NM',\n",
    "    'Ohio': 'OH',\n",
    "    'Oklahoma': 'OK',\n",
    "    'Oregon': 'OR',\n",
    "    'Pennsylvania': 'PA',\n",
    "    'Rhode Island': 'RI',\n",
    "    'Tennessee': 'TN',\n",
    "    'Texas': 'TX',\n",
    "    'Utah': 'UT',\n",
    "    'Vermont': 'VT',\n",
    "    'Virginia': 'VA',\n",
    "    'West Virginia': 'WV',\n",
    "    'Washington': 'WA',\n",
    "    'Wisconsin': 'WI',\n",
    "    'Wyoming': 'WY'\n",
    "}\n",
    "\n",
    "def filter_state(text):\n",
    "    # Remove special characters except letters and spaces\n",
    "    text = re.sub(r'[^a-zA-Z\\s]', '', text)\n",
    "\n",
    "    # Look for state abbreviations or full state names in the address\n",
    "    for abbr in abbreviations:\n",
    "        if abbr in text:\n",
    "            return abbr\n",
    "\n",
    "    for state in states:\n",
    "        if state in text:\n",
    "            return states[state]\n",
    "\n",
    "    return None\n",
    "\n",
    "# Define a UDF (User-Defined Function) to apply the filter_state function to a column\n",
    "filter_state_udf = udf(filter_state, StringType())\n",
    "\n",
    "# Apply the filter_state UDF to the 'address' column and create a new column 'State' with the filtered state values\n",
    "gmap_metadata = gmap_metadata.withColumn('State', filter_state_udf(col('address')))\n",
    "\n",
    "# Drop rows where \"State\" is null\n",
    "gmap_metadata = gmap_metadata.na.drop(subset=['State'])\n",
    "\n",
    "# gmap_metadata.show()"
   ]
  },
  {
   "cell_type": "code",
   "execution_count": 4,
   "id": "bb4db2d3-b9f8-4a3f-9ab9-9a23b7b5c6ea",
   "metadata": {
    "tags": []
   },
   "outputs": [],
   "source": [
    "\n",
    "word_filter = [\n",
    "    'Weight Loss Centers', 'Eyelash salon', 'Barbershop', 'Nail salon', 'Tanning', 'Reflexology', 'Perfume store', 'Massage',\n",
    "    'Massage Therapy', 'Spray Tanning', 'Beauty', 'Cosmetology Schools', 'Eyebrow Services', 'Hair Extensions', 'Skin care clinic',\n",
    "    'Nail Technicians', 'Beauty school', 'Day spa', 'Cosmetics store', 'Rolfing', 'Hair Stylists', 'Permanent Makeup',\n",
    "    'Tanning salon', 'Threading Services', 'Beauty product supplier', 'Beauty & Spas', 'Medical Spas', 'Beauty salon', 'Makeup artist',\n",
    "    'Blow Dry/Out Services', 'Body Contouring', 'Saunas', 'Hair removal service', 'Hair salon', 'Tattoo and piercing shop',\n",
    "    'Electrolysis hair removal service', 'Massage studio', 'Naturopathic/Holistic', 'Orthodontist', 'Spa', 'Makeup Artists',\n",
    "    'Beauty products wholesaler', 'Tattoo', 'Skin Care', 'Halotherapy', 'Facial spa', 'Hair Removal', 'Eyelash Service',\n",
    "    'Hair Salons', 'Permanent make-up clinic', 'Cosmetics & Beauty Supply', 'Eyelash service', 'Piercing', 'Cosmetic dentist',\n",
    "    'Wig shop', 'Nail Salons', 'Waxing'\n",
    "]\n",
    "\n",
    "# Create a UDF to extract the first word from each array element\n",
    "extract_first_word = udf(lambda array: array[0] if array else None, StringType())\n",
    "\n",
    "# Extract the first word from the category array\n",
    "gmap_metadata = gmap_metadata.withColumn(\"first_word\", extract_first_word(gmap_metadata.category))\n",
    "\n",
    "# Filter the rows based on the intersection of first_word and word_filter\n",
    "filtered_metadata = gmap_metadata.filter(gmap_metadata.first_word.isin(word_filter))\n",
    "\n",
    "# Show the filtered DataFrame\n",
    "# filtered_metadata.show()"
   ]
  },
  {
   "cell_type": "code",
   "execution_count": 5,
   "id": "44024e3f-1fe7-4d58-9d57-aa41af0f2573",
   "metadata": {
    "tags": []
   },
   "outputs": [
    {
     "name": "stderr",
     "output_type": "stream",
     "text": [
      "                                                                                \r"
     ]
    }
   ],
   "source": [
    "# Define the output JSON file path\n",
    "output_json_path = 'gs://bucket123321/gmap_clean_data/metadata/filter'\n",
    "\n",
    "# Repartition the DataFrame to a single partition\n",
    "filtered_metadata = filtered_metadata.repartition(1)\n",
    "\n",
    "# Write the DataFrame to a JSON file \n",
    "filtered_metadata.write.json(output_json_path)"
   ]
  },
  {
   "cell_type": "code",
   "execution_count": 6,
   "id": "f2686bfa-a378-443e-b980-5ebea7609e8e",
   "metadata": {},
   "outputs": [],
   "source": [
    "# !bq load --autodetect --source_format=NEWLINE_DELIMITED_JSON conjunto_testing.filter_gmaps_metadata gs://bucket123321/gmap_clean_data/metadata/filter/*.json"
   ]
  },
  {
   "attachments": {},
   "cell_type": "markdown",
   "id": "4a1aba91-8854-4ff0-b51f-2b5343c82a87",
   "metadata": {},
   "source": [
    "# Filter reviews by beauty_business"
   ]
  },
  {
   "cell_type": "code",
   "execution_count": 22,
   "id": "31b4ea9d-15c9-4fb4-bdf0-00620a78ab5c",
   "metadata": {},
   "outputs": [
    {
     "name": "stderr",
     "output_type": "stream",
     "text": [
      "                                                                                \r"
     ]
    }
   ],
   "source": [
    "# Create a SparkSession\n",
    "spark = SparkSession.builder.getOrCreate()\n",
    "\n",
    "beauty_business_path = \"gs://bucket123321/beauty_business.csv\"\n",
    "gmaps_reviews_path = \"gs://bucket123321/gmap_clean_data/reviews/part-00000-fabb6eff-2a57-425e-b58d-cc873c7335d7-c000.json\"\n",
    "yelp_reviews_path = \"gs://bucket123321/review.json\"\n",
    "\n",
    "# Read the files into Spark DataFrames\n",
    "beauty_business = spark.read.csv(beauty_business_path, header=True)\n",
    "gmaps_reviews = spark.read.json(gmaps_reviews_path)\n",
    "yelp_reviews = spark.read.json(yelp_reviews_path)"
   ]
  },
  {
   "cell_type": "code",
   "execution_count": 23,
   "id": "c058dd31-2991-4bea-b2ba-6db3e495d953",
   "metadata": {},
   "outputs": [],
   "source": [
    "# Transform gmaps_reviews DataFrame\n",
    "gmaps_reviews = gmaps_reviews.drop(\"user_id\", \"name\")  # Remove columns\n",
    "gmaps_reviews = gmaps_reviews.withColumnRenamed(\"gmap_id\", \"business_id\")  # Rename column\n",
    "gmaps_reviews = gmaps_reviews.withColumnRenamed(\"rating\", \"stars\")  # Rename column\n",
    "gmaps_reviews = gmaps_reviews.withColumnRenamed(\"formatted_time\", \"date\")  # Rename column\n",
    "\n",
    "# Transform yelp_reviews DataFrame\n",
    "yelp_reviews = yelp_reviews.drop(\"cool\", \"funny\", \"user_id\", \"review_id\", \"useful\")  # Remove columns"
   ]
  },
  {
   "cell_type": "code",
   "execution_count": 30,
   "id": "887c7783-3ca9-41c7-8a90-cc77b9ac3409",
   "metadata": {},
   "outputs": [
    {
     "name": "stdout",
     "output_type": "stream",
     "text": [
      "root\n",
      " |-- avg_rating: string (nullable = true)\n",
      " |-- id: string (nullable = true)\n",
      " |-- latitude: string (nullable = true)\n",
      " |-- longitude: string (nullable = true)\n",
      " |-- name: string (nullable = true)\n",
      " |-- num_of_reviews: string (nullable = true)\n",
      " |-- state: string (nullable = true)\n",
      " |-- category: string (nullable = true)\n",
      "\n",
      "root\n",
      " |-- date: string (nullable = true)\n",
      " |-- business_id: string (nullable = true)\n",
      " |-- stars: long (nullable = true)\n",
      " |-- text: string (nullable = true)\n",
      "\n",
      "root\n",
      " |-- business_id: string (nullable = true)\n",
      " |-- date: string (nullable = true)\n",
      " |-- stars: double (nullable = true)\n",
      " |-- text: string (nullable = true)\n",
      "\n"
     ]
    }
   ],
   "source": [
    "beauty_business.printSchema()\n",
    "gmaps_reviews.printSchema()\n",
    "yelp_reviews.printSchema()"
   ]
  },
  {
   "cell_type": "code",
   "execution_count": 25,
   "id": "fe1ced56-0923-4614-ab51-3436fb56d30a",
   "metadata": {},
   "outputs": [],
   "source": [
    "# Union the DataFrames\n",
    "business_reviews = gmaps_reviews.union(yelp_reviews)"
   ]
  },
  {
   "cell_type": "code",
   "execution_count": 31,
   "id": "088b251f-5853-4764-ab8c-92eef36cc24d",
   "metadata": {},
   "outputs": [
    {
     "name": "stdout",
     "output_type": "stream",
     "text": [
      "root\n",
      " |-- avg_rating: string (nullable = true)\n",
      " |-- id: string (nullable = true)\n",
      " |-- latitude: string (nullable = true)\n",
      " |-- longitude: string (nullable = true)\n",
      " |-- name: string (nullable = true)\n",
      " |-- num_of_reviews: string (nullable = true)\n",
      " |-- state: string (nullable = true)\n",
      " |-- category: string (nullable = true)\n",
      "\n",
      "root\n",
      " |-- date: string (nullable = true)\n",
      " |-- business_id: string (nullable = true)\n",
      " |-- stars: double (nullable = true)\n",
      " |-- text: string (nullable = true)\n",
      "\n"
     ]
    }
   ],
   "source": [
    "beauty_business.printSchema()\n",
    "business_reviews.printSchema()"
   ]
  },
  {
   "cell_type": "code",
   "execution_count": 33,
   "id": "6d83c7c4-cdf2-45cf-bbf3-6a93109dbb1a",
   "metadata": {},
   "outputs": [
    {
     "name": "stderr",
     "output_type": "stream",
     "text": [
      "                                                                                \r"
     ]
    },
    {
     "name": "stdout",
     "output_type": "stream",
     "text": [
      "+-------------------+--------------------+-----+--------------------+\n",
      "|               date|         business_id|stars|                text|\n",
      "+-------------------+--------------------+-----+--------------------+\n",
      "|2017-03-12 20:12:45|0x8752616fa217e71...|  5.0|Very good custome...|\n",
      "|2019-09-19 09:02:25|0x87bae8b297b4086...|  4.0|Thank you all i a...|\n",
      "|2019-12-02 19:06:19|0x5490415d892e4a8...|  5.0|                null|\n",
      "|2019-10-05 23:21:09|0x89b426e51b86442...|  3.0|                null|\n",
      "|2019-09-25 05:26:51|0x89c25de0b1c19e2...|  5.0|                null|\n",
      "|2019-01-10 02:44:10|0x80c2c4f11ce7a41...|  5.0|                null|\n",
      "|2018-12-01 16:34:01|0x808576d09f32119...|  5.0|                null|\n",
      "|2020-09-13 00:01:54|0x89c51a86164f354...|  5.0|Great salon. Neve...|\n",
      "|2020-10-22 02:40:27|0x52b3253d922c14b...|  5.0|            The best|\n",
      "|2018-11-16 12:50:36|0x8861625c8bfaec1...|  2.0|                null|\n",
      "|2018-09-15 19:14:31|0x89c6fd41ef3aab7...|  5.0|I've been going t...|\n",
      "|2019-02-22 20:50:25|0x4cca1ac05841935...|  5.0|Never had a bad c...|\n",
      "|2021-03-14 18:08:58|0x89babe20d10761f...|  5.0|Sang, Alena, and ...|\n",
      "|2018-10-03 23:52:32|0x54b8c8a38125d97...|  5.0|                null|\n",
      "|2019-02-15 00:01:24|0x89c46b7cb996dcb...|  5.0|                null|\n",
      "|2018-07-30 22:49:51|0x88f56aa91f742f5...|  4.0|                null|\n",
      "|2017-08-25 21:36:16|0x880e513c3dfa0c6...|  5.0|Ask for Mary Kate...|\n",
      "|2019-03-05 18:21:09|0x88623568e0d7403...|  5.0|Extremely clean s...|\n",
      "|2018-07-11 15:23:59|0x88605e7ed778460...|  4.0|Great place for a...|\n",
      "|2020-09-04 01:03:02|0x89ac522f861bf3e...|  4.0|Update from yeste...|\n",
      "+-------------------+--------------------+-----+--------------------+\n",
      "only showing top 20 rows\n",
      "\n"
     ]
    }
   ],
   "source": [
    "# Join the DataFrames based on business_id and id\n",
    "business_beauty_reviews = business_reviews.join(beauty_business, business_reviews.business_id == beauty_business.id)\n",
    "\n",
    "# Select the desired columns from the filtered DataFrame\n",
    "business_beauty_reviews = business_beauty_reviews.select(business_reviews.date, business_reviews.business_id, business_reviews.stars, business_reviews.text)\n",
    "\n",
    "# Show the filtered DataFrame\n",
    "business_beauty_reviews.show()"
   ]
  },
  {
   "cell_type": "code",
   "execution_count": 34,
   "id": "b13f6419-261a-4e45-8918-a4c6d2b418ef",
   "metadata": {},
   "outputs": [
    {
     "name": "stderr",
     "output_type": "stream",
     "text": [
      "                                                                                \r"
     ]
    },
    {
     "data": {
      "text/plain": [
       "1905190"
      ]
     },
     "execution_count": 34,
     "metadata": {},
     "output_type": "execute_result"
    }
   ],
   "source": [
    "business_beauty_reviews.count()"
   ]
  },
  {
   "cell_type": "code",
   "execution_count": 35,
   "id": "9ad11d55-facf-4a87-b83c-4cb584295550",
   "metadata": {},
   "outputs": [
    {
     "name": "stderr",
     "output_type": "stream",
     "text": [
      "                                                                                \r"
     ]
    }
   ],
   "source": [
    "# Define the output JSON file path\n",
    "output_json_path = 'gs://bucket123321/beauty/'\n",
    "\n",
    "# Repartition the DataFrame to a single partition\n",
    "business_beauty_reviews = business_beauty_reviews.repartition(1)\n",
    "\n",
    "# Write the DataFrame to a JSON file \n",
    "business_beauty_reviews.write.json(output_json_path)"
   ]
  },
  {
   "cell_type": "code",
   "execution_count": 36,
   "id": "304a0acd-f453-460c-90f6-69ec1878ac18",
   "metadata": {},
   "outputs": [
    {
     "name": "stdout",
     "output_type": "stream",
     "text": [
      "Waiting on bqjob_rcc5466dd089d64f_00000188c71cb86a_1 ... (14s) Current status: DONE   \n"
     ]
    }
   ],
   "source": [
    "# !bq load --autodetect --source_format=NEWLINE_DELIMITED_JSON conjunto_testing.beauty_business_reviews gs://bucket123321/beauty/*.json"
   ]
  }
 ],
 "metadata": {
  "kernelspec": {
   "display_name": "PySpark (Local)",
   "language": "python",
   "name": "local-pyspark"
  },
  "language_info": {
   "codemirror_mode": {
    "name": "ipython",
    "version": 3
   },
   "file_extension": ".py",
   "mimetype": "text/x-python",
   "name": "python",
   "nbconvert_exporter": "python",
   "pygments_lexer": "ipython3",
   "version": "3.7.12"
  }
 },
 "nbformat": 4,
 "nbformat_minor": 5
}
